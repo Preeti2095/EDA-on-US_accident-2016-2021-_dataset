{
  "cells": [
    {
      "cell_type": "markdown",
      "source": [
        "**US Accidnets Exploratory Data Analysis** <br/>\n",
        "Dataset link: https://www.kaggle.com/datasets/sobhanmoosavi/us-accidents\n"
      ],
      "metadata": {
        "id": "yS2dG7dBuDdL"
      }
    },
    {
      "cell_type": "code",
      "execution_count": 1,
      "metadata": {
        "colab": {
          "base_uri": "https://localhost:8080/"
        },
        "id": "MDG38MYSLnfz",
        "outputId": "e30db6fb-8d8a-40e1-e44c-873bcee591d5"
      },
      "outputs": [
        {
          "output_type": "stream",
          "name": "stdout",
          "text": [
            "Requirement already satisfied: kaggle in /usr/local/lib/python3.7/dist-packages (1.5.12)\n",
            "Requirement already satisfied: requests in /usr/local/lib/python3.7/dist-packages (from kaggle) (2.23.0)\n",
            "Requirement already satisfied: certifi in /usr/local/lib/python3.7/dist-packages (from kaggle) (2021.10.8)\n",
            "Requirement already satisfied: urllib3 in /usr/local/lib/python3.7/dist-packages (from kaggle) (1.24.3)\n",
            "Requirement already satisfied: six>=1.10 in /usr/local/lib/python3.7/dist-packages (from kaggle) (1.15.0)\n",
            "Requirement already satisfied: python-dateutil in /usr/local/lib/python3.7/dist-packages (from kaggle) (2.8.2)\n",
            "Requirement already satisfied: tqdm in /usr/local/lib/python3.7/dist-packages (from kaggle) (4.64.0)\n",
            "Requirement already satisfied: python-slugify in /usr/local/lib/python3.7/dist-packages (from kaggle) (6.1.1)\n",
            "Requirement already satisfied: text-unidecode>=1.3 in /usr/local/lib/python3.7/dist-packages (from python-slugify->kaggle) (1.3)\n",
            "Requirement already satisfied: chardet<4,>=3.0.2 in /usr/local/lib/python3.7/dist-packages (from requests->kaggle) (3.0.4)\n",
            "Requirement already satisfied: idna<3,>=2.5 in /usr/local/lib/python3.7/dist-packages (from requests->kaggle) (2.10)\n"
          ]
        }
      ],
      "source": [
        "!pip install kaggle"
      ]
    },
    {
      "cell_type": "code",
      "execution_count": 2,
      "metadata": {
        "id": "crhyLDodPsMY"
      },
      "outputs": [],
      "source": [
        "! mkdir ~/.kaggle"
      ]
    },
    {
      "cell_type": "code",
      "source": [
        "!cp /content/drive/MyDrive/kaggle.json ~/.kaggle/kaggle.json\n"
      ],
      "metadata": {
        "id": "_4swkkHDs5qF"
      },
      "execution_count": 3,
      "outputs": []
    },
    {
      "cell_type": "code",
      "execution_count": 4,
      "metadata": {
        "colab": {
          "base_uri": "https://localhost:8080/"
        },
        "id": "1fl0_reIQQ5M",
        "outputId": "3f594c02-9861-4635-8b8c-6993a65ec2c2"
      },
      "outputs": [
        {
          "output_type": "stream",
          "name": "stdout",
          "text": [
            "Downloading us-accidents.zip to /content\n",
            " 96% 259M/269M [00:03<00:00, 76.3MB/s]\n",
            "100% 269M/269M [00:03<00:00, 80.0MB/s]\n"
          ]
        }
      ],
      "source": [
        "! kaggle datasets download sobhanmoosavi/us-accidents"
      ]
    },
    {
      "cell_type": "code",
      "execution_count": 5,
      "metadata": {
        "colab": {
          "base_uri": "https://localhost:8080/"
        },
        "id": "nDISM4JzQ5ZV",
        "outputId": "299df8aa-66a0-4098-abcf-a8619add4229"
      },
      "outputs": [
        {
          "output_type": "stream",
          "name": "stdout",
          "text": [
            "Archive:  us-accidents.zip\n",
            "  inflating: US_Accidents_Dec21_updated.csv  \n"
          ]
        }
      ],
      "source": [
        "!unzip us-accidents.zip"
      ]
    },
    {
      "cell_type": "code",
      "execution_count": 6,
      "metadata": {
        "id": "kDhxpwZ3P9Qo"
      },
      "outputs": [],
      "source": [
        "# ! chmod 600 ~/.kaggle/kaggle.json\n",
        "# ! cp kaggle.json ~/.kaggle/"
      ]
    },
    {
      "cell_type": "markdown",
      "source": [
        "**Importing required libraries**"
      ],
      "metadata": {
        "id": "Fdw-tKncueVT"
      }
    },
    {
      "cell_type": "code",
      "source": [
        "import pandas as pd\n",
        "import numpy as np\n",
        "\n",
        "import matplotlib.pyplot as plt\n",
        "import seaborn as sns"
      ],
      "metadata": {
        "id": "gSDnefikudBB"
      },
      "execution_count": 7,
      "outputs": []
    },
    {
      "cell_type": "markdown",
      "source": [
        "**Data preparation and Cleaning**\n",
        "* Load the dataset using pandas\n",
        "* Get overview about the dataset\n",
        "* Look for any missing values, outliers, or any other data cleaning tasks"
      ],
      "metadata": {
        "id": "rYMq9R4TvIn1"
      }
    },
    {
      "cell_type": "code",
      "execution_count": 8,
      "metadata": {
        "id": "6GYpcO9gRRcu"
      },
      "outputs": [],
      "source": [
        "#load the dataset\n",
        "data=pd.read_csv(\"/content/US_Accidents_Dec21_updated.csv\")"
      ]
    },
    {
      "cell_type": "code",
      "source": [
        "data.head()"
      ],
      "metadata": {
        "colab": {
          "base_uri": "https://localhost:8080/",
          "height": 508
        },
        "id": "lSyHJCiZt4tp",
        "outputId": "8af9c0ed-ba3a-4ccd-e479-48c8aee501cc"
      },
      "execution_count": 9,
      "outputs": [
        {
          "output_type": "execute_result",
          "data": {
            "text/plain": [
              "    ID  Severity           Start_Time             End_Time  Start_Lat  \\\n",
              "0  A-1         3  2016-02-08 00:37:08  2016-02-08 06:37:08  40.108910   \n",
              "1  A-2         2  2016-02-08 05:56:20  2016-02-08 11:56:20  39.865420   \n",
              "2  A-3         2  2016-02-08 06:15:39  2016-02-08 12:15:39  39.102660   \n",
              "3  A-4         2  2016-02-08 06:51:45  2016-02-08 12:51:45  41.062130   \n",
              "4  A-5         3  2016-02-08 07:53:43  2016-02-08 13:53:43  39.172393   \n",
              "\n",
              "   Start_Lng    End_Lat    End_Lng  Distance(mi)  \\\n",
              "0 -83.092860  40.112060 -83.031870         3.230   \n",
              "1 -84.062800  39.865010 -84.048730         0.747   \n",
              "2 -84.524680  39.102090 -84.523960         0.055   \n",
              "3 -81.537840  41.062170 -81.535470         0.123   \n",
              "4 -84.492792  39.170476 -84.501798         0.500   \n",
              "\n",
              "                                         Description  ...  Roundabout Station  \\\n",
              "0  Between Sawmill Rd/Exit 20 and OH-315/Olentang...  ...       False   False   \n",
              "1                 At OH-4/OH-235/Exit 41 - Accident.  ...       False   False   \n",
              "2                   At I-71/US-50/Exit 1 - Accident.  ...       False   False   \n",
              "3                    At Dart Ave/Exit 21 - Accident.  ...       False   False   \n",
              "4                 At Mitchell Ave/Exit 6 - Accident.  ...       False   False   \n",
              "\n",
              "    Stop Traffic_Calming Traffic_Signal Turning_Loop Sunrise_Sunset  \\\n",
              "0  False           False          False        False          Night   \n",
              "1  False           False          False        False          Night   \n",
              "2  False           False          False        False          Night   \n",
              "3  False           False          False        False          Night   \n",
              "4  False           False          False        False            Day   \n",
              "\n",
              "  Civil_Twilight Nautical_Twilight Astronomical_Twilight  \n",
              "0          Night             Night                 Night  \n",
              "1          Night             Night                 Night  \n",
              "2          Night             Night                   Day  \n",
              "3          Night               Day                   Day  \n",
              "4            Day               Day                   Day  \n",
              "\n",
              "[5 rows x 47 columns]"
            ],
            "text/html": [
              "\n",
              "  <div id=\"df-949875f2-30fe-4497-94f2-18589d42f4f6\">\n",
              "    <div class=\"colab-df-container\">\n",
              "      <div>\n",
              "<style scoped>\n",
              "    .dataframe tbody tr th:only-of-type {\n",
              "        vertical-align: middle;\n",
              "    }\n",
              "\n",
              "    .dataframe tbody tr th {\n",
              "        vertical-align: top;\n",
              "    }\n",
              "\n",
              "    .dataframe thead th {\n",
              "        text-align: right;\n",
              "    }\n",
              "</style>\n",
              "<table border=\"1\" class=\"dataframe\">\n",
              "  <thead>\n",
              "    <tr style=\"text-align: right;\">\n",
              "      <th></th>\n",
              "      <th>ID</th>\n",
              "      <th>Severity</th>\n",
              "      <th>Start_Time</th>\n",
              "      <th>End_Time</th>\n",
              "      <th>Start_Lat</th>\n",
              "      <th>Start_Lng</th>\n",
              "      <th>End_Lat</th>\n",
              "      <th>End_Lng</th>\n",
              "      <th>Distance(mi)</th>\n",
              "      <th>Description</th>\n",
              "      <th>...</th>\n",
              "      <th>Roundabout</th>\n",
              "      <th>Station</th>\n",
              "      <th>Stop</th>\n",
              "      <th>Traffic_Calming</th>\n",
              "      <th>Traffic_Signal</th>\n",
              "      <th>Turning_Loop</th>\n",
              "      <th>Sunrise_Sunset</th>\n",
              "      <th>Civil_Twilight</th>\n",
              "      <th>Nautical_Twilight</th>\n",
              "      <th>Astronomical_Twilight</th>\n",
              "    </tr>\n",
              "  </thead>\n",
              "  <tbody>\n",
              "    <tr>\n",
              "      <th>0</th>\n",
              "      <td>A-1</td>\n",
              "      <td>3</td>\n",
              "      <td>2016-02-08 00:37:08</td>\n",
              "      <td>2016-02-08 06:37:08</td>\n",
              "      <td>40.108910</td>\n",
              "      <td>-83.092860</td>\n",
              "      <td>40.112060</td>\n",
              "      <td>-83.031870</td>\n",
              "      <td>3.230</td>\n",
              "      <td>Between Sawmill Rd/Exit 20 and OH-315/Olentang...</td>\n",
              "      <td>...</td>\n",
              "      <td>False</td>\n",
              "      <td>False</td>\n",
              "      <td>False</td>\n",
              "      <td>False</td>\n",
              "      <td>False</td>\n",
              "      <td>False</td>\n",
              "      <td>Night</td>\n",
              "      <td>Night</td>\n",
              "      <td>Night</td>\n",
              "      <td>Night</td>\n",
              "    </tr>\n",
              "    <tr>\n",
              "      <th>1</th>\n",
              "      <td>A-2</td>\n",
              "      <td>2</td>\n",
              "      <td>2016-02-08 05:56:20</td>\n",
              "      <td>2016-02-08 11:56:20</td>\n",
              "      <td>39.865420</td>\n",
              "      <td>-84.062800</td>\n",
              "      <td>39.865010</td>\n",
              "      <td>-84.048730</td>\n",
              "      <td>0.747</td>\n",
              "      <td>At OH-4/OH-235/Exit 41 - Accident.</td>\n",
              "      <td>...</td>\n",
              "      <td>False</td>\n",
              "      <td>False</td>\n",
              "      <td>False</td>\n",
              "      <td>False</td>\n",
              "      <td>False</td>\n",
              "      <td>False</td>\n",
              "      <td>Night</td>\n",
              "      <td>Night</td>\n",
              "      <td>Night</td>\n",
              "      <td>Night</td>\n",
              "    </tr>\n",
              "    <tr>\n",
              "      <th>2</th>\n",
              "      <td>A-3</td>\n",
              "      <td>2</td>\n",
              "      <td>2016-02-08 06:15:39</td>\n",
              "      <td>2016-02-08 12:15:39</td>\n",
              "      <td>39.102660</td>\n",
              "      <td>-84.524680</td>\n",
              "      <td>39.102090</td>\n",
              "      <td>-84.523960</td>\n",
              "      <td>0.055</td>\n",
              "      <td>At I-71/US-50/Exit 1 - Accident.</td>\n",
              "      <td>...</td>\n",
              "      <td>False</td>\n",
              "      <td>False</td>\n",
              "      <td>False</td>\n",
              "      <td>False</td>\n",
              "      <td>False</td>\n",
              "      <td>False</td>\n",
              "      <td>Night</td>\n",
              "      <td>Night</td>\n",
              "      <td>Night</td>\n",
              "      <td>Day</td>\n",
              "    </tr>\n",
              "    <tr>\n",
              "      <th>3</th>\n",
              "      <td>A-4</td>\n",
              "      <td>2</td>\n",
              "      <td>2016-02-08 06:51:45</td>\n",
              "      <td>2016-02-08 12:51:45</td>\n",
              "      <td>41.062130</td>\n",
              "      <td>-81.537840</td>\n",
              "      <td>41.062170</td>\n",
              "      <td>-81.535470</td>\n",
              "      <td>0.123</td>\n",
              "      <td>At Dart Ave/Exit 21 - Accident.</td>\n",
              "      <td>...</td>\n",
              "      <td>False</td>\n",
              "      <td>False</td>\n",
              "      <td>False</td>\n",
              "      <td>False</td>\n",
              "      <td>False</td>\n",
              "      <td>False</td>\n",
              "      <td>Night</td>\n",
              "      <td>Night</td>\n",
              "      <td>Day</td>\n",
              "      <td>Day</td>\n",
              "    </tr>\n",
              "    <tr>\n",
              "      <th>4</th>\n",
              "      <td>A-5</td>\n",
              "      <td>3</td>\n",
              "      <td>2016-02-08 07:53:43</td>\n",
              "      <td>2016-02-08 13:53:43</td>\n",
              "      <td>39.172393</td>\n",
              "      <td>-84.492792</td>\n",
              "      <td>39.170476</td>\n",
              "      <td>-84.501798</td>\n",
              "      <td>0.500</td>\n",
              "      <td>At Mitchell Ave/Exit 6 - Accident.</td>\n",
              "      <td>...</td>\n",
              "      <td>False</td>\n",
              "      <td>False</td>\n",
              "      <td>False</td>\n",
              "      <td>False</td>\n",
              "      <td>False</td>\n",
              "      <td>False</td>\n",
              "      <td>Day</td>\n",
              "      <td>Day</td>\n",
              "      <td>Day</td>\n",
              "      <td>Day</td>\n",
              "    </tr>\n",
              "  </tbody>\n",
              "</table>\n",
              "<p>5 rows × 47 columns</p>\n",
              "</div>\n",
              "      <button class=\"colab-df-convert\" onclick=\"convertToInteractive('df-949875f2-30fe-4497-94f2-18589d42f4f6')\"\n",
              "              title=\"Convert this dataframe to an interactive table.\"\n",
              "              style=\"display:none;\">\n",
              "        \n",
              "  <svg xmlns=\"http://www.w3.org/2000/svg\" height=\"24px\"viewBox=\"0 0 24 24\"\n",
              "       width=\"24px\">\n",
              "    <path d=\"M0 0h24v24H0V0z\" fill=\"none\"/>\n",
              "    <path d=\"M18.56 5.44l.94 2.06.94-2.06 2.06-.94-2.06-.94-.94-2.06-.94 2.06-2.06.94zm-11 1L8.5 8.5l.94-2.06 2.06-.94-2.06-.94L8.5 2.5l-.94 2.06-2.06.94zm10 10l.94 2.06.94-2.06 2.06-.94-2.06-.94-.94-2.06-.94 2.06-2.06.94z\"/><path d=\"M17.41 7.96l-1.37-1.37c-.4-.4-.92-.59-1.43-.59-.52 0-1.04.2-1.43.59L10.3 9.45l-7.72 7.72c-.78.78-.78 2.05 0 2.83L4 21.41c.39.39.9.59 1.41.59.51 0 1.02-.2 1.41-.59l7.78-7.78 2.81-2.81c.8-.78.8-2.07 0-2.86zM5.41 20L4 18.59l7.72-7.72 1.47 1.35L5.41 20z\"/>\n",
              "  </svg>\n",
              "      </button>\n",
              "      \n",
              "  <style>\n",
              "    .colab-df-container {\n",
              "      display:flex;\n",
              "      flex-wrap:wrap;\n",
              "      gap: 12px;\n",
              "    }\n",
              "\n",
              "    .colab-df-convert {\n",
              "      background-color: #E8F0FE;\n",
              "      border: none;\n",
              "      border-radius: 50%;\n",
              "      cursor: pointer;\n",
              "      display: none;\n",
              "      fill: #1967D2;\n",
              "      height: 32px;\n",
              "      padding: 0 0 0 0;\n",
              "      width: 32px;\n",
              "    }\n",
              "\n",
              "    .colab-df-convert:hover {\n",
              "      background-color: #E2EBFA;\n",
              "      box-shadow: 0px 1px 2px rgba(60, 64, 67, 0.3), 0px 1px 3px 1px rgba(60, 64, 67, 0.15);\n",
              "      fill: #174EA6;\n",
              "    }\n",
              "\n",
              "    [theme=dark] .colab-df-convert {\n",
              "      background-color: #3B4455;\n",
              "      fill: #D2E3FC;\n",
              "    }\n",
              "\n",
              "    [theme=dark] .colab-df-convert:hover {\n",
              "      background-color: #434B5C;\n",
              "      box-shadow: 0px 1px 3px 1px rgba(0, 0, 0, 0.15);\n",
              "      filter: drop-shadow(0px 1px 2px rgba(0, 0, 0, 0.3));\n",
              "      fill: #FFFFFF;\n",
              "    }\n",
              "  </style>\n",
              "\n",
              "      <script>\n",
              "        const buttonEl =\n",
              "          document.querySelector('#df-949875f2-30fe-4497-94f2-18589d42f4f6 button.colab-df-convert');\n",
              "        buttonEl.style.display =\n",
              "          google.colab.kernel.accessAllowed ? 'block' : 'none';\n",
              "\n",
              "        async function convertToInteractive(key) {\n",
              "          const element = document.querySelector('#df-949875f2-30fe-4497-94f2-18589d42f4f6');\n",
              "          const dataTable =\n",
              "            await google.colab.kernel.invokeFunction('convertToInteractive',\n",
              "                                                     [key], {});\n",
              "          if (!dataTable) return;\n",
              "\n",
              "          const docLinkHtml = 'Like what you see? Visit the ' +\n",
              "            '<a target=\"_blank\" href=https://colab.research.google.com/notebooks/data_table.ipynb>data table notebook</a>'\n",
              "            + ' to learn more about interactive tables.';\n",
              "          element.innerHTML = '';\n",
              "          dataTable['output_type'] = 'display_data';\n",
              "          await google.colab.output.renderOutput(dataTable, element);\n",
              "          const docLink = document.createElement('div');\n",
              "          docLink.innerHTML = docLinkHtml;\n",
              "          element.appendChild(docLink);\n",
              "        }\n",
              "      </script>\n",
              "    </div>\n",
              "  </div>\n",
              "  "
            ]
          },
          "metadata": {},
          "execution_count": 9
        }
      ]
    },
    {
      "cell_type": "code",
      "source": [
        "data.columns"
      ],
      "metadata": {
        "colab": {
          "base_uri": "https://localhost:8080/"
        },
        "id": "LMdx0Q8ZuBHg",
        "outputId": "94e701c4-bd03-4a8c-c4ec-3dbcc43c7c74"
      },
      "execution_count": 10,
      "outputs": [
        {
          "output_type": "execute_result",
          "data": {
            "text/plain": [
              "Index(['ID', 'Severity', 'Start_Time', 'End_Time', 'Start_Lat', 'Start_Lng',\n",
              "       'End_Lat', 'End_Lng', 'Distance(mi)', 'Description', 'Number', 'Street',\n",
              "       'Side', 'City', 'County', 'State', 'Zipcode', 'Country', 'Timezone',\n",
              "       'Airport_Code', 'Weather_Timestamp', 'Temperature(F)', 'Wind_Chill(F)',\n",
              "       'Humidity(%)', 'Pressure(in)', 'Visibility(mi)', 'Wind_Direction',\n",
              "       'Wind_Speed(mph)', 'Precipitation(in)', 'Weather_Condition', 'Amenity',\n",
              "       'Bump', 'Crossing', 'Give_Way', 'Junction', 'No_Exit', 'Railway',\n",
              "       'Roundabout', 'Station', 'Stop', 'Traffic_Calming', 'Traffic_Signal',\n",
              "       'Turning_Loop', 'Sunrise_Sunset', 'Civil_Twilight', 'Nautical_Twilight',\n",
              "       'Astronomical_Twilight'],\n",
              "      dtype='object')"
            ]
          },
          "metadata": {},
          "execution_count": 10
        }
      ]
    },
    {
      "cell_type": "markdown",
      "source": [
        "**Some thoughts on columns:-**\n",
        "1. There are two columns 'County' and 'Country' as well so check if both are same or not.\n",
        "2. There are three types of Twilight: \"Civil_Twilight\", \"Nautical_Twilight\" and \"Astronomical_Twilight\". What are they?\n",
        "3. 'Number', 'Street', 'Side', 'City', 'County', 'State', 'Zipcode', 'Country' :- these are the fields which are similar, so check if there is any redundancy or not."
      ],
      "metadata": {
        "id": "FOj1FAwny6ic"
      }
    },
    {
      "cell_type": "code",
      "source": [
        "# creating the two columns, one to store list of features to drop and one to add features that are need to be added\n",
        "drop_list=[]\n",
        "feature_list=[]"
      ],
      "metadata": {
        "id": "VBCJKjRQy75_"
      },
      "execution_count": 11,
      "outputs": []
    },
    {
      "cell_type": "code",
      "execution_count": 12,
      "metadata": {
        "id": "VLc5r9MfPvV1",
        "colab": {
          "base_uri": "https://localhost:8080/"
        },
        "outputId": "a6d42721-6974-4d89-9c88-98b00324cc77"
      },
      "outputs": [
        {
          "output_type": "stream",
          "name": "stdout",
          "text": [
            "<class 'pandas.core.frame.DataFrame'>\n",
            "RangeIndex: 2845342 entries, 0 to 2845341\n",
            "Data columns (total 47 columns):\n",
            " #   Column                 Dtype  \n",
            "---  ------                 -----  \n",
            " 0   ID                     object \n",
            " 1   Severity               int64  \n",
            " 2   Start_Time             object \n",
            " 3   End_Time               object \n",
            " 4   Start_Lat              float64\n",
            " 5   Start_Lng              float64\n",
            " 6   End_Lat                float64\n",
            " 7   End_Lng                float64\n",
            " 8   Distance(mi)           float64\n",
            " 9   Description            object \n",
            " 10  Number                 float64\n",
            " 11  Street                 object \n",
            " 12  Side                   object \n",
            " 13  City                   object \n",
            " 14  County                 object \n",
            " 15  State                  object \n",
            " 16  Zipcode                object \n",
            " 17  Country                object \n",
            " 18  Timezone               object \n",
            " 19  Airport_Code           object \n",
            " 20  Weather_Timestamp      object \n",
            " 21  Temperature(F)         float64\n",
            " 22  Wind_Chill(F)          float64\n",
            " 23  Humidity(%)            float64\n",
            " 24  Pressure(in)           float64\n",
            " 25  Visibility(mi)         float64\n",
            " 26  Wind_Direction         object \n",
            " 27  Wind_Speed(mph)        float64\n",
            " 28  Precipitation(in)      float64\n",
            " 29  Weather_Condition      object \n",
            " 30  Amenity                bool   \n",
            " 31  Bump                   bool   \n",
            " 32  Crossing               bool   \n",
            " 33  Give_Way               bool   \n",
            " 34  Junction               bool   \n",
            " 35  No_Exit                bool   \n",
            " 36  Railway                bool   \n",
            " 37  Roundabout             bool   \n",
            " 38  Station                bool   \n",
            " 39  Stop                   bool   \n",
            " 40  Traffic_Calming        bool   \n",
            " 41  Traffic_Signal         bool   \n",
            " 42  Turning_Loop           bool   \n",
            " 43  Sunrise_Sunset         object \n",
            " 44  Civil_Twilight         object \n",
            " 45  Nautical_Twilight      object \n",
            " 46  Astronomical_Twilight  object \n",
            "dtypes: bool(13), float64(13), int64(1), object(20)\n",
            "memory usage: 773.4+ MB\n"
          ]
        }
      ],
      "source": [
        "data.info()"
      ]
    },
    {
      "cell_type": "markdown",
      "source": [
        ""
      ],
      "metadata": {
        "id": "G1KobIkCwq0P"
      }
    },
    {
      "cell_type": "code",
      "source": [
        "# answering the third one: \n",
        "#'Number', 'Street', 'Side', 'City', 'County', 'State', 'Zipcode', 'Country'\n",
        "#  these are the fields which are similar, so check if there is any redundancy or not.\n",
        "data[['Number', 'Street', 'Side', 'City', 'County', 'State', 'Zipcode', 'Country']]"
      ],
      "metadata": {
        "colab": {
          "base_uri": "https://localhost:8080/",
          "height": 424
        },
        "id": "y5Km64-Att5c",
        "outputId": "c5e6da09-f2c9-42b9-dc52-1a81b39de6b7"
      },
      "execution_count": 13,
      "outputs": [
        {
          "output_type": "execute_result",
          "data": {
            "text/plain": [
              "         Number            Street Side         City          County State  \\\n",
              "0           NaN       Outerbelt E    R       Dublin        Franklin    OH   \n",
              "1           NaN            I-70 E    R       Dayton      Montgomery    OH   \n",
              "2           NaN            I-75 S    R   Cincinnati        Hamilton    OH   \n",
              "3           NaN            I-77 N    R        Akron          Summit    OH   \n",
              "4           NaN            I-75 S    R   Cincinnati        Hamilton    OH   \n",
              "...         ...               ...  ...          ...             ...   ...   \n",
              "2845337     NaN      Pomona Fwy E    R    Riverside       Riverside    CA   \n",
              "2845338     NaN             I-8 W    R    San Diego       San Diego    CA   \n",
              "2845339     NaN  Garden Grove Fwy    R       Orange          Orange    CA   \n",
              "2845340     NaN   San Diego Fwy S    R  Culver City     Los Angeles    CA   \n",
              "2845341     NaN          CA-210 W    R     Highland  San Bernardino    CA   \n",
              "\n",
              "        Zipcode Country  \n",
              "0         43017      US  \n",
              "1         45424      US  \n",
              "2         45203      US  \n",
              "3         44311      US  \n",
              "4         45217      US  \n",
              "...         ...     ...  \n",
              "2845337   92501      US  \n",
              "2845338   92108      US  \n",
              "2845339   92866      US  \n",
              "2845340   90230      US  \n",
              "2845341   92346      US  \n",
              "\n",
              "[2845342 rows x 8 columns]"
            ],
            "text/html": [
              "\n",
              "  <div id=\"df-bfe07a19-4e72-4881-a8e8-01143a1be560\">\n",
              "    <div class=\"colab-df-container\">\n",
              "      <div>\n",
              "<style scoped>\n",
              "    .dataframe tbody tr th:only-of-type {\n",
              "        vertical-align: middle;\n",
              "    }\n",
              "\n",
              "    .dataframe tbody tr th {\n",
              "        vertical-align: top;\n",
              "    }\n",
              "\n",
              "    .dataframe thead th {\n",
              "        text-align: right;\n",
              "    }\n",
              "</style>\n",
              "<table border=\"1\" class=\"dataframe\">\n",
              "  <thead>\n",
              "    <tr style=\"text-align: right;\">\n",
              "      <th></th>\n",
              "      <th>Number</th>\n",
              "      <th>Street</th>\n",
              "      <th>Side</th>\n",
              "      <th>City</th>\n",
              "      <th>County</th>\n",
              "      <th>State</th>\n",
              "      <th>Zipcode</th>\n",
              "      <th>Country</th>\n",
              "    </tr>\n",
              "  </thead>\n",
              "  <tbody>\n",
              "    <tr>\n",
              "      <th>0</th>\n",
              "      <td>NaN</td>\n",
              "      <td>Outerbelt E</td>\n",
              "      <td>R</td>\n",
              "      <td>Dublin</td>\n",
              "      <td>Franklin</td>\n",
              "      <td>OH</td>\n",
              "      <td>43017</td>\n",
              "      <td>US</td>\n",
              "    </tr>\n",
              "    <tr>\n",
              "      <th>1</th>\n",
              "      <td>NaN</td>\n",
              "      <td>I-70 E</td>\n",
              "      <td>R</td>\n",
              "      <td>Dayton</td>\n",
              "      <td>Montgomery</td>\n",
              "      <td>OH</td>\n",
              "      <td>45424</td>\n",
              "      <td>US</td>\n",
              "    </tr>\n",
              "    <tr>\n",
              "      <th>2</th>\n",
              "      <td>NaN</td>\n",
              "      <td>I-75 S</td>\n",
              "      <td>R</td>\n",
              "      <td>Cincinnati</td>\n",
              "      <td>Hamilton</td>\n",
              "      <td>OH</td>\n",
              "      <td>45203</td>\n",
              "      <td>US</td>\n",
              "    </tr>\n",
              "    <tr>\n",
              "      <th>3</th>\n",
              "      <td>NaN</td>\n",
              "      <td>I-77 N</td>\n",
              "      <td>R</td>\n",
              "      <td>Akron</td>\n",
              "      <td>Summit</td>\n",
              "      <td>OH</td>\n",
              "      <td>44311</td>\n",
              "      <td>US</td>\n",
              "    </tr>\n",
              "    <tr>\n",
              "      <th>4</th>\n",
              "      <td>NaN</td>\n",
              "      <td>I-75 S</td>\n",
              "      <td>R</td>\n",
              "      <td>Cincinnati</td>\n",
              "      <td>Hamilton</td>\n",
              "      <td>OH</td>\n",
              "      <td>45217</td>\n",
              "      <td>US</td>\n",
              "    </tr>\n",
              "    <tr>\n",
              "      <th>...</th>\n",
              "      <td>...</td>\n",
              "      <td>...</td>\n",
              "      <td>...</td>\n",
              "      <td>...</td>\n",
              "      <td>...</td>\n",
              "      <td>...</td>\n",
              "      <td>...</td>\n",
              "      <td>...</td>\n",
              "    </tr>\n",
              "    <tr>\n",
              "      <th>2845337</th>\n",
              "      <td>NaN</td>\n",
              "      <td>Pomona Fwy E</td>\n",
              "      <td>R</td>\n",
              "      <td>Riverside</td>\n",
              "      <td>Riverside</td>\n",
              "      <td>CA</td>\n",
              "      <td>92501</td>\n",
              "      <td>US</td>\n",
              "    </tr>\n",
              "    <tr>\n",
              "      <th>2845338</th>\n",
              "      <td>NaN</td>\n",
              "      <td>I-8 W</td>\n",
              "      <td>R</td>\n",
              "      <td>San Diego</td>\n",
              "      <td>San Diego</td>\n",
              "      <td>CA</td>\n",
              "      <td>92108</td>\n",
              "      <td>US</td>\n",
              "    </tr>\n",
              "    <tr>\n",
              "      <th>2845339</th>\n",
              "      <td>NaN</td>\n",
              "      <td>Garden Grove Fwy</td>\n",
              "      <td>R</td>\n",
              "      <td>Orange</td>\n",
              "      <td>Orange</td>\n",
              "      <td>CA</td>\n",
              "      <td>92866</td>\n",
              "      <td>US</td>\n",
              "    </tr>\n",
              "    <tr>\n",
              "      <th>2845340</th>\n",
              "      <td>NaN</td>\n",
              "      <td>San Diego Fwy S</td>\n",
              "      <td>R</td>\n",
              "      <td>Culver City</td>\n",
              "      <td>Los Angeles</td>\n",
              "      <td>CA</td>\n",
              "      <td>90230</td>\n",
              "      <td>US</td>\n",
              "    </tr>\n",
              "    <tr>\n",
              "      <th>2845341</th>\n",
              "      <td>NaN</td>\n",
              "      <td>CA-210 W</td>\n",
              "      <td>R</td>\n",
              "      <td>Highland</td>\n",
              "      <td>San Bernardino</td>\n",
              "      <td>CA</td>\n",
              "      <td>92346</td>\n",
              "      <td>US</td>\n",
              "    </tr>\n",
              "  </tbody>\n",
              "</table>\n",
              "<p>2845342 rows × 8 columns</p>\n",
              "</div>\n",
              "      <button class=\"colab-df-convert\" onclick=\"convertToInteractive('df-bfe07a19-4e72-4881-a8e8-01143a1be560')\"\n",
              "              title=\"Convert this dataframe to an interactive table.\"\n",
              "              style=\"display:none;\">\n",
              "        \n",
              "  <svg xmlns=\"http://www.w3.org/2000/svg\" height=\"24px\"viewBox=\"0 0 24 24\"\n",
              "       width=\"24px\">\n",
              "    <path d=\"M0 0h24v24H0V0z\" fill=\"none\"/>\n",
              "    <path d=\"M18.56 5.44l.94 2.06.94-2.06 2.06-.94-2.06-.94-.94-2.06-.94 2.06-2.06.94zm-11 1L8.5 8.5l.94-2.06 2.06-.94-2.06-.94L8.5 2.5l-.94 2.06-2.06.94zm10 10l.94 2.06.94-2.06 2.06-.94-2.06-.94-.94-2.06-.94 2.06-2.06.94z\"/><path d=\"M17.41 7.96l-1.37-1.37c-.4-.4-.92-.59-1.43-.59-.52 0-1.04.2-1.43.59L10.3 9.45l-7.72 7.72c-.78.78-.78 2.05 0 2.83L4 21.41c.39.39.9.59 1.41.59.51 0 1.02-.2 1.41-.59l7.78-7.78 2.81-2.81c.8-.78.8-2.07 0-2.86zM5.41 20L4 18.59l7.72-7.72 1.47 1.35L5.41 20z\"/>\n",
              "  </svg>\n",
              "      </button>\n",
              "      \n",
              "  <style>\n",
              "    .colab-df-container {\n",
              "      display:flex;\n",
              "      flex-wrap:wrap;\n",
              "      gap: 12px;\n",
              "    }\n",
              "\n",
              "    .colab-df-convert {\n",
              "      background-color: #E8F0FE;\n",
              "      border: none;\n",
              "      border-radius: 50%;\n",
              "      cursor: pointer;\n",
              "      display: none;\n",
              "      fill: #1967D2;\n",
              "      height: 32px;\n",
              "      padding: 0 0 0 0;\n",
              "      width: 32px;\n",
              "    }\n",
              "\n",
              "    .colab-df-convert:hover {\n",
              "      background-color: #E2EBFA;\n",
              "      box-shadow: 0px 1px 2px rgba(60, 64, 67, 0.3), 0px 1px 3px 1px rgba(60, 64, 67, 0.15);\n",
              "      fill: #174EA6;\n",
              "    }\n",
              "\n",
              "    [theme=dark] .colab-df-convert {\n",
              "      background-color: #3B4455;\n",
              "      fill: #D2E3FC;\n",
              "    }\n",
              "\n",
              "    [theme=dark] .colab-df-convert:hover {\n",
              "      background-color: #434B5C;\n",
              "      box-shadow: 0px 1px 3px 1px rgba(0, 0, 0, 0.15);\n",
              "      filter: drop-shadow(0px 1px 2px rgba(0, 0, 0, 0.3));\n",
              "      fill: #FFFFFF;\n",
              "    }\n",
              "  </style>\n",
              "\n",
              "      <script>\n",
              "        const buttonEl =\n",
              "          document.querySelector('#df-bfe07a19-4e72-4881-a8e8-01143a1be560 button.colab-df-convert');\n",
              "        buttonEl.style.display =\n",
              "          google.colab.kernel.accessAllowed ? 'block' : 'none';\n",
              "\n",
              "        async function convertToInteractive(key) {\n",
              "          const element = document.querySelector('#df-bfe07a19-4e72-4881-a8e8-01143a1be560');\n",
              "          const dataTable =\n",
              "            await google.colab.kernel.invokeFunction('convertToInteractive',\n",
              "                                                     [key], {});\n",
              "          if (!dataTable) return;\n",
              "\n",
              "          const docLinkHtml = 'Like what you see? Visit the ' +\n",
              "            '<a target=\"_blank\" href=https://colab.research.google.com/notebooks/data_table.ipynb>data table notebook</a>'\n",
              "            + ' to learn more about interactive tables.';\n",
              "          element.innerHTML = '';\n",
              "          dataTable['output_type'] = 'display_data';\n",
              "          await google.colab.output.renderOutput(dataTable, element);\n",
              "          const docLink = document.createElement('div');\n",
              "          docLink.innerHTML = docLinkHtml;\n",
              "          element.appendChild(docLink);\n",
              "        }\n",
              "      </script>\n",
              "    </div>\n",
              "  </div>\n",
              "  "
            ]
          },
          "metadata": {},
          "execution_count": 13
        }
      ]
    },
    {
      "cell_type": "markdown",
      "source": [
        "### Number\n",
        "Shows the street number in address field."
      ],
      "metadata": {
        "id": "qEq8BKVxyHy4"
      }
    },
    {
      "cell_type": "code",
      "source": [
        "#checking the Number column as we can see so much of nan values\n",
        "data['Number'].isnull().sum() / len(data)"
      ],
      "metadata": {
        "colab": {
          "base_uri": "https://localhost:8080/"
        },
        "id": "WcHB8BPHwhKh",
        "outputId": "6f000b6e-3a63-4a72-e603-988e8c4ab23f"
      },
      "execution_count": 14,
      "outputs": [
        {
          "output_type": "execute_result",
          "data": {
            "text/plain": [
              "0.6129003121593116"
            ]
          },
          "metadata": {},
          "execution_count": 14
        }
      ]
    },
    {
      "cell_type": "markdown",
      "source": [
        "we can see more than 50% percent values are missing and it is difficult to work with so many missing values. Hence we will drop the column."
      ],
      "metadata": {
        "id": "cJrkZUvyw4P3"
      }
    },
    {
      "cell_type": "code",
      "source": [
        "drop_list.append('Number')"
      ],
      "metadata": {
        "id": "VCVaFKeVzrMJ"
      },
      "execution_count": 15,
      "outputs": []
    },
    {
      "cell_type": "markdown",
      "source": [
        "### Street\n",
        "Shows the street name in address field."
      ],
      "metadata": {
        "id": "lJKPIhE1yLsT"
      }
    },
    {
      "cell_type": "code",
      "source": [
        "data['Street'].nunique()"
      ],
      "metadata": {
        "colab": {
          "base_uri": "https://localhost:8080/"
        },
        "id": "124EfoC2x5wk",
        "outputId": "eaf47f82-2e4c-4118-921f-0e5ed8521035"
      },
      "execution_count": 18,
      "outputs": [
        {
          "output_type": "execute_result",
          "data": {
            "text/plain": [
              "159651"
            ]
          },
          "metadata": {},
          "execution_count": 18
        }
      ]
    },
    {
      "cell_type": "markdown",
      "source": [
        "There are so many unique value for street, it will be good to drop this feature. \n"
      ],
      "metadata": {
        "id": "0eKn6wCHym4U"
      }
    },
    {
      "cell_type": "code",
      "source": [
        "drop_list.append('Street')"
      ],
      "metadata": {
        "id": "fj7eETVBy1DG"
      },
      "execution_count": 19,
      "outputs": []
    },
    {
      "cell_type": "markdown",
      "source": [
        "### Side\n",
        "Shows the relative side of the street (Right/Left) in address field."
      ],
      "metadata": {
        "id": "HgzebwHGzVop"
      }
    },
    {
      "cell_type": "code",
      "source": [
        "data['Side'].value_counts()"
      ],
      "metadata": {
        "colab": {
          "base_uri": "https://localhost:8080/"
        },
        "id": "7gJyVLZozVMo",
        "outputId": "d866dc61-8c3c-4e2c-ef8d-a18fbc97038c"
      },
      "execution_count": 20,
      "outputs": [
        {
          "output_type": "execute_result",
          "data": {
            "text/plain": [
              "R    2353309\n",
              "L     492032\n",
              "N          1\n",
              "Name: Side, dtype: int64"
            ]
          },
          "metadata": {},
          "execution_count": 20
        }
      ]
    },
    {
      "cell_type": "markdown",
      "source": [
        "It shows most of the accidents took place in right side of street. But it would be good to see further this feature with other features. It has one N value which we will remove it. "
      ],
      "metadata": {
        "id": "SevMCO8M0BkZ"
      }
    },
    {
      "cell_type": "code",
      "source": [
        "# data.drop(data[data.loc['Side']=='N'].index)\n",
        "data.drop(data.loc[data['Side']=='N'].index,inplace=True)"
      ],
      "metadata": {
        "id": "mCby9fqPKJi0"
      },
      "execution_count": 21,
      "outputs": []
    },
    {
      "cell_type": "code",
      "source": [
        "data['Side'].value_counts()"
      ],
      "metadata": {
        "colab": {
          "base_uri": "https://localhost:8080/"
        },
        "id": "pcBxRA2lK7EP",
        "outputId": "dab5a6cd-fce0-4233-86c4-6f7364c5cc9a"
      },
      "execution_count": 22,
      "outputs": [
        {
          "output_type": "execute_result",
          "data": {
            "text/plain": [
              "R    2353309\n",
              "L     492032\n",
              "Name: Side, dtype: int64"
            ]
          },
          "metadata": {},
          "execution_count": 22
        }
      ]
    },
    {
      "cell_type": "markdown",
      "source": [
        "### City"
      ],
      "metadata": {
        "id": "L-DfHJQvLFh_"
      }
    },
    {
      "cell_type": "code",
      "source": [
        "\n",
        "city_by_accidents = data['City'].value_counts()\n",
        "data['City'].value_counts()"
      ],
      "metadata": {
        "colab": {
          "base_uri": "https://localhost:8080/"
        },
        "id": "OSCbn4oL0BIp",
        "outputId": "0fc5b11e-25b1-45e1-b5ad-6354e2ca1701"
      },
      "execution_count": 23,
      "outputs": [
        {
          "output_type": "execute_result",
          "data": {
            "text/plain": [
              "Miami                           106966\n",
              "Los Angeles                      68956\n",
              "Orlando                          54691\n",
              "Dallas                           41979\n",
              "Houston                          39448\n",
              "                                 ...  \n",
              "Ridgedale                            1\n",
              "Sekiu                                1\n",
              "Wooldridge                           1\n",
              "Bullock                              1\n",
              "American Fork-Pleasant Grove         1\n",
              "Name: City, Length: 11681, dtype: int64"
            ]
          },
          "metadata": {},
          "execution_count": 23
        }
      ]
    },
    {
      "cell_type": "markdown",
      "source": [
        "so miami is a city in florida, which is a 3rd most populus state in USA. That could be a reasonable reason why miami has highest no of accidents."
      ],
      "metadata": {
        "id": "SKfU_hNB1_nG"
      }
    },
    {
      "cell_type": "code",
      "source": [
        "data['City'].nunique()"
      ],
      "metadata": {
        "colab": {
          "base_uri": "https://localhost:8080/"
        },
        "id": "Jw3yy0NQ1Lpw",
        "outputId": "c1184e64-a336-4408-f636-6b5e0d4b6516"
      },
      "execution_count": 24,
      "outputs": [
        {
          "output_type": "execute_result",
          "data": {
            "text/plain": [
              "11681"
            ]
          },
          "metadata": {},
          "execution_count": 24
        }
      ]
    },
    {
      "cell_type": "code",
      "source": [
        "len(city_by_accidents[city_by_accidents>=10000])\n",
        "high_accident_city = city_by_accidents[city_by_accidents>=10000]\n",
        "high_accident_city"
      ],
      "metadata": {
        "colab": {
          "base_uri": "https://localhost:8080/"
        },
        "id": "W340fSGg3izR",
        "outputId": "5a8992b0-c580-4a90-dd17-4587e4d4b896"
      },
      "execution_count": 25,
      "outputs": [
        {
          "output_type": "execute_result",
          "data": {
            "text/plain": [
              "Miami              106966\n",
              "Los Angeles         68956\n",
              "Orlando             54691\n",
              "Dallas              41979\n",
              "Houston             39448\n",
              "Charlotte           33152\n",
              "Sacramento          32559\n",
              "San Diego           26627\n",
              "Raleigh             22840\n",
              "Minneapolis         22768\n",
              "Portland            20944\n",
              "Nashville           20267\n",
              "Austin              18301\n",
              "Baton Rouge         18182\n",
              "Phoenix             17143\n",
              "Saint Paul          16869\n",
              "New Orleans         16251\n",
              "Atlanta             15622\n",
              "Jacksonville        14967\n",
              "Richmond            14349\n",
              "Tucson              13799\n",
              "San Jose            13377\n",
              "Riverside           13310\n",
              "Kansas City         13298\n",
              "Bakersfield         12044\n",
              "San Bernardino      11249\n",
              "Chicago             11188\n",
              "Tampa               10984\n",
              "Salt Lake City      10709\n",
              "Ontario             10538\n",
              "Anaheim             10502\n",
              "Hialeah             10398\n",
              "Fort Lauderdale     10345\n",
              "Oakland             10051\n",
              "Name: City, dtype: int64"
            ]
          },
          "metadata": {},
          "execution_count": 25
        }
      ]
    },
    {
      "cell_type": "markdown",
      "source": [
        ""
      ],
      "metadata": {
        "id": "37El9Bml9FgS"
      }
    },
    {
      "cell_type": "code",
      "source": [
        "# sns.histplot(high_accident_city)\n",
        "plt.figure(figsize=(10,8))\n",
        "plt.bar(high_accident_city.index, high_accident_city)\n",
        "plt.xticks(rotation=90)\n",
        "plt.title(\"High Accident City\")\n",
        "plt.xlabel(\"City\")\n",
        "plt.ylabel(\"Accident count\")\n",
        "plt.tight_layout()"
      ],
      "metadata": {
        "colab": {
          "base_uri": "https://localhost:8080/",
          "height": 585
        },
        "id": "mm6tP1kq9Rnj",
        "outputId": "ed9e0528-a27b-490b-b61b-d6e04b862a49"
      },
      "execution_count": 32,
      "outputs": [
        {
          "output_type": "display_data",
          "data": {
            "text/plain": [
              "<Figure size 720x576 with 1 Axes>"
            ],
            "image/png": "[encoded data removed]"
          },
          "metadata": {
            "needs_background": "light"
          }
        }
      ]
    },
    {
      "cell_type": "markdown",
      "source": [
        "1. we can try to find here why miami has such high accident rates.\n",
        "- is the population only reason?\n",
        "   * compare the population of miami with other high accident cities.\n",
        "   * compare miami population with other cities in florida."
      ],
      "metadata": {
        "id": "98Y2OtuE9q7z"
      }
    },
    {
      "cell_type": "markdown",
      "source": [
        "* population of miami: \n",
        "  * 5,902,000(2016)\n",
        "  * 6,167,000(2021)\n",
        "* population of los-angles:\n",
        "  * 12,383,000(2016)\n",
        "  * 12,459,000(2021)\n",
        "\n",
        "* population of Orlando:\n",
        "  * 1,784,000 (2016)\n",
        "  * 2,002,000 (2021)\n",
        "\n",
        "* population of Dallas:\n",
        "  * 5,846,000 (2016)\n",
        "  * 6,397,000 (2021)\n",
        "\n",
        "source: https://www.macrotrends.net/cities/23064/miami/population?q=dallas\n"
      ],
      "metadata": {
        "id": "dQS_IxRT-j8q"
      }
    },
    {
      "cell_type": "markdown",
      "source": [
        "We can see that population is not the reason as los angles has highest population but it is second place in cities by accident and it's accident's rate is 40,000 less than miami.\n",
        "\n",
        "There are other reason then..."
      ],
      "metadata": {
        "id": "yTOnZ3kQCRm5"
      }
    },
    {
      "cell_type": "code",
      "source": [
        "#now let's compare population cities of florida\n",
        "data[data['City']=='Miami'][['City','County', 'State']]['County'].value_counts()"
      ],
      "metadata": {
        "id": "omOlUfOG9RlU",
        "colab": {
          "base_uri": "https://localhost:8080/"
        },
        "outputId": "d0bf685b-20d1-403f-fa80-d8b1d4df20ef"
      },
      "execution_count": 33,
      "outputs": [
        {
          "output_type": "execute_result",
          "data": {
            "text/plain": [
              "Miami-Dade    106891\n",
              "Gila              51\n",
              "Pinal             10\n",
              "Kanawha            7\n",
              "Broward            5\n",
              "Ottawa             2\n",
              "Name: County, dtype: int64"
            ]
          },
          "metadata": {},
          "execution_count": 33
        }
      ]
    },
    {
      "cell_type": "markdown",
      "source": [
        "Miami-Dade is the most dangerous county in florida\n",
        "source: https://www.laventlaw.com/miami-car-accident-lawyer/statistics/"
      ],
      "metadata": {
        "id": "b7tuGle7ZIzJ"
      }
    },
    {
      "cell_type": "markdown",
      "source": [
        "### County and States\n",
        "* County:- In the United States, a county is an administrative or political subdivision of a state that consists of a geographic region with specific boundaries.\n",
        "\n",
        "* There are 50 states in US and around 3000 counties.\n",
        "* So we will not consider the county but will consider the states."
      ],
      "metadata": {
        "id": "geZtEotTQcO-"
      }
    },
    {
      "cell_type": "code",
      "source": [
        "drop_list.append('County')"
      ],
      "metadata": {
        "id": "z8tEUwesRCqH"
      },
      "execution_count": 34,
      "outputs": []
    },
    {
      "cell_type": "code",
      "source": [
        "data[data['City']=='Miami'][['City','County', 'State']]['State'].value_counts()"
      ],
      "metadata": {
        "id": "pfKEC6dg9RjD",
        "colab": {
          "base_uri": "https://localhost:8080/"
        },
        "outputId": "b7abaf0e-0ebe-4024-bb9a-d614fe136d41"
      },
      "execution_count": 35,
      "outputs": [
        {
          "output_type": "execute_result",
          "data": {
            "text/plain": [
              "FL    106896\n",
              "AZ        61\n",
              "WV         7\n",
              "OK         2\n",
              "Name: State, dtype: int64"
            ]
          },
          "metadata": {},
          "execution_count": 35
        }
      ]
    },
    {
      "cell_type": "markdown",
      "source": [
        "There are places named as \"miami\" in other states also but most of the accidents are recorded from \"florida\". So we will consider the miami of florida only."
      ],
      "metadata": {
        "id": "obA8w3zVTSUH"
      }
    },
    {
      "cell_type": "code",
      "source": [
        "#collecting the accident report of florida state\n",
        "florida_state = data[data['State']=='FL']"
      ],
      "metadata": {
        "id": "b3w3aiQo9Rge"
      },
      "execution_count": 36,
      "outputs": []
    },
    {
      "cell_type": "code",
      "source": [
        "len(florida_state)"
      ],
      "metadata": {
        "id": "tmhxykJZ9RPS",
        "colab": {
          "base_uri": "https://localhost:8080/"
        },
        "outputId": "ef3db6c2-3958-43e8-d39a-6680b1695527"
      },
      "execution_count": 37,
      "outputs": [
        {
          "output_type": "execute_result",
          "data": {
            "text/plain": [
              "401388"
            ]
          },
          "metadata": {},
          "execution_count": 37
        }
      ]
    },
    {
      "cell_type": "code",
      "source": [
        "florida_state['County'].value_counts()"
      ],
      "metadata": {
        "colab": {
          "base_uri": "https://localhost:8080/"
        },
        "id": "knKDjXPvUSyF",
        "outputId": "0f03beb4-12cb-4dd0-99aa-999119bf41b6"
      },
      "execution_count": 38,
      "outputs": [
        {
          "output_type": "execute_result",
          "data": {
            "text/plain": [
              "Miami-Dade      143939\n",
              "Orange           60566\n",
              "Broward          21217\n",
              "Hillsborough     19328\n",
              "Pinellas         15775\n",
              "                 ...  \n",
              "Gulf                38\n",
              "Franklin            24\n",
              "Lafayette           23\n",
              "Saint Johns         15\n",
              "De Soto              8\n",
              "Name: County, Length: 69, dtype: int64"
            ]
          },
          "metadata": {},
          "execution_count": 38
        }
      ]
    },
    {
      "cell_type": "code",
      "source": [
        "plt.figure(figsize=(10,8))\n",
        "plt.bar(florida_state['County'].value_counts().keys(), florida_state['County'].value_counts())\n",
        "plt.xticks(rotation=90)\n",
        "plt.title(\"County of Florida\")\n",
        "plt.xlabel(\"County\")\n",
        "plt.ylabel(\"Accident count\")\n",
        "plt.tight_layout()"
      ],
      "metadata": {
        "colab": {
          "base_uri": "https://localhost:8080/",
          "height": 585
        },
        "id": "89ENbgnqg8Sk",
        "outputId": "a422e1d7-2ffa-4149-b36e-1828892c1d5c"
      },
      "execution_count": 41,
      "outputs": [
        {
          "output_type": "display_data",
          "data": {
            "text/plain": [
              "<Figure size 720x576 with 1 Axes>"
            ],
            "image/png": "[encoded data removed]"
          },
          "metadata": {
            "needs_background": "light"
          }
        }
      ]
    },
    {
      "cell_type": "markdown",
      "source": [
        "Miami-Dade has the highest accident count in Florida state."
      ],
      "metadata": {
        "id": "BtCPKO03iUNb"
      }
    },
    {
      "cell_type": "markdown",
      "source": [
        "**One of the reason:** Drivers often become impatient and aggressive when faced with Miami’s congested roads and bumper-to-bumper traffic. \n",
        "Source: https://www.laventlaw.com/miami-car-accident-lawyer/statistics/"
      ],
      "metadata": {
        "id": "7Nb6-omLZnHG"
      }
    },
    {
      "cell_type": "markdown",
      "source": [
        "### Accident count in state"
      ],
      "metadata": {
        "id": "GA_gYbtZjRqY"
      }
    },
    {
      "cell_type": "code",
      "source": [
        "plt.figure(figsize=(10,8))\n",
        "plt.bar(data['State'].value_counts().keys(), data['State'].value_counts())\n",
        "plt.xticks(rotation=90)\n",
        "plt.title(\"Accident count by state\")\n",
        "plt.xlabel(\"State\")\n",
        "plt.ylabel(\"Accident count\")\n",
        "plt.tight_layout()"
      ],
      "metadata": {
        "colab": {
          "base_uri": "https://localhost:8080/",
          "height": 585
        },
        "id": "oJXGiIJOjRU0",
        "outputId": "bd81503f-1443-42bf-850b-c5c52af9b888"
      },
      "execution_count": 45,
      "outputs": [
        {
          "output_type": "display_data",
          "data": {
            "text/plain": [
              "<Figure size 720x576 with 1 Axes>"
            ],
            "image/png": "[encoded data removed]"
          },
          "metadata": {
            "needs_background": "light"
          }
        }
      ]
    },
    {
      "cell_type": "markdown",
      "source": [
        "CANADA ranks 1 in highest accident state in USA. And it is also the most populous state in USA."
      ],
      "metadata": {
        "id": "44cPRpvTkRGN"
      }
    },
    {
      "cell_type": "code",
      "source": [
        "#now just consider miami city in florida\n",
        "miami_florida=florida_state[florida_state['City']=='Miami']"
      ],
      "metadata": {
        "id": "FfYmy3Z6ZgRh"
      },
      "execution_count": 42,
      "outputs": []
    },
    {
      "cell_type": "code",
      "source": [
        "miami_florida.head()"
      ],
      "metadata": {
        "colab": {
          "base_uri": "https://localhost:8080/",
          "height": 508
        },
        "id": "htCCjFbWZgON",
        "outputId": "42030b09-9c2e-4fc5-d1a9-65d55df153ef"
      },
      "execution_count": 43,
      "outputs": [
        {
          "output_type": "execute_result",
          "data": {
            "text/plain": [
              "            ID  Severity           Start_Time             End_Time  Start_Lat  \\\n",
              "31596  A-31597         2  2016-11-30 16:35:52  2016-11-30 22:35:52   25.78601   \n",
              "31660  A-31661         2  2016-11-30 18:35:52  2016-12-01 00:35:52   25.66214   \n",
              "31734  A-31735         2  2016-12-01 05:51:51  2016-12-01 11:51:51   25.97053   \n",
              "31735  A-31736         3  2016-12-01 06:03:23  2016-12-01 12:03:23   25.78447   \n",
              "31805  A-31806         2  2016-12-01 08:21:46  2016-12-01 14:21:46   25.91310   \n",
              "\n",
              "       Start_Lng   End_Lat   End_Lng  Distance(mi)  \\\n",
              "31596  -80.25809  25.78336 -80.26911         0.710   \n",
              "31660  -80.38860  25.65292 -80.38712         0.644   \n",
              "31734  -80.16576  25.95995 -80.16870         0.753   \n",
              "31735  -80.29346  25.78488 -80.28444         0.562   \n",
              "31805  -80.21024  25.90780 -80.21023         0.366   \n",
              "\n",
              "                                         Description  ...  Roundabout Station  \\\n",
              "31596     At SR-953/42nd Ave/Le Jeune Rd - Accident.  ...       False   False   \n",
              "31660                At 120th St/Exit 19 - Accident.  ...       False   False   \n",
              "31734  At Ives Dairy Rd/203rd St/Exit 16 - Accident.  ...       False   False   \n",
              "31735                   At SR-959/Red Rd - Accident.  ...       False   False   \n",
              "31805                At 151st St/Exit 11 - Accident.  ...       False   False   \n",
              "\n",
              "        Stop Traffic_Calming Traffic_Signal Turning_Loop Sunrise_Sunset  \\\n",
              "31596  False           False          False        False            Day   \n",
              "31660  False           False          False        False          Night   \n",
              "31734  False           False          False        False          Night   \n",
              "31735  False           False          False        False          Night   \n",
              "31805  False           False          False        False            Day   \n",
              "\n",
              "      Civil_Twilight Nautical_Twilight Astronomical_Twilight  \n",
              "31596            Day               Day                   Day  \n",
              "31660          Night             Night                   Day  \n",
              "31734          Night             Night                   Day  \n",
              "31735          Night               Day                   Day  \n",
              "31805            Day               Day                   Day  \n",
              "\n",
              "[5 rows x 47 columns]"
            ],
            "text/html": [
              "\n",
              "  <div id=\"df-ed48a049-47e5-4fed-a3c4-6676eaddcc68\">\n",
              "    <div class=\"colab-df-container\">\n",
              "      <div>\n",
              "<style scoped>\n",
              "    .dataframe tbody tr th:only-of-type {\n",
              "        vertical-align: middle;\n",
              "    }\n",
              "\n",
              "    .dataframe tbody tr th {\n",
              "        vertical-align: top;\n",
              "    }\n",
              "\n",
              "    .dataframe thead th {\n",
              "        text-align: right;\n",
              "    }\n",
              "</style>\n",
              "<table border=\"1\" class=\"dataframe\">\n",
              "  <thead>\n",
              "    <tr style=\"text-align: right;\">\n",
              "      <th></th>\n",
              "      <th>ID</th>\n",
              "      <th>Severity</th>\n",
              "      <th>Start_Time</th>\n",
              "      <th>End_Time</th>\n",
              "      <th>Start_Lat</th>\n",
              "      <th>Start_Lng</th>\n",
              "      <th>End_Lat</th>\n",
              "      <th>End_Lng</th>\n",
              "      <th>Distance(mi)</th>\n",
              "      <th>Description</th>\n",
              "      <th>...</th>\n",
              "      <th>Roundabout</th>\n",
              "      <th>Station</th>\n",
              "      <th>Stop</th>\n",
              "      <th>Traffic_Calming</th>\n",
              "      <th>Traffic_Signal</th>\n",
              "      <th>Turning_Loop</th>\n",
              "      <th>Sunrise_Sunset</th>\n",
              "      <th>Civil_Twilight</th>\n",
              "      <th>Nautical_Twilight</th>\n",
              "      <th>Astronomical_Twilight</th>\n",
              "    </tr>\n",
              "  </thead>\n",
              "  <tbody>\n",
              "    <tr>\n",
              "      <th>31596</th>\n",
              "      <td>A-31597</td>\n",
              "      <td>2</td>\n",
              "      <td>2016-11-30 16:35:52</td>\n",
              "      <td>2016-11-30 22:35:52</td>\n",
              "      <td>25.78601</td>\n",
              "      <td>-80.25809</td>\n",
              "      <td>25.78336</td>\n",
              "      <td>-80.26911</td>\n",
              "      <td>0.710</td>\n",
              "      <td>At SR-953/42nd Ave/Le Jeune Rd - Accident.</td>\n",
              "      <td>...</td>\n",
              "      <td>False</td>\n",
              "      <td>False</td>\n",
              "      <td>False</td>\n",
              "      <td>False</td>\n",
              "      <td>False</td>\n",
              "      <td>False</td>\n",
              "      <td>Day</td>\n",
              "      <td>Day</td>\n",
              "      <td>Day</td>\n",
              "      <td>Day</td>\n",
              "    </tr>\n",
              "    <tr>\n",
              "      <th>31660</th>\n",
              "      <td>A-31661</td>\n",
              "      <td>2</td>\n",
              "      <td>2016-11-30 18:35:52</td>\n",
              "      <td>2016-12-01 00:35:52</td>\n",
              "      <td>25.66214</td>\n",
              "      <td>-80.38860</td>\n",
              "      <td>25.65292</td>\n",
              "      <td>-80.38712</td>\n",
              "      <td>0.644</td>\n",
              "      <td>At 120th St/Exit 19 - Accident.</td>\n",
              "      <td>...</td>\n",
              "      <td>False</td>\n",
              "      <td>False</td>\n",
              "      <td>False</td>\n",
              "      <td>False</td>\n",
              "      <td>False</td>\n",
              "      <td>False</td>\n",
              "      <td>Night</td>\n",
              "      <td>Night</td>\n",
              "      <td>Night</td>\n",
              "      <td>Day</td>\n",
              "    </tr>\n",
              "    <tr>\n",
              "      <th>31734</th>\n",
              "      <td>A-31735</td>\n",
              "      <td>2</td>\n",
              "      <td>2016-12-01 05:51:51</td>\n",
              "      <td>2016-12-01 11:51:51</td>\n",
              "      <td>25.97053</td>\n",
              "      <td>-80.16576</td>\n",
              "      <td>25.95995</td>\n",
              "      <td>-80.16870</td>\n",
              "      <td>0.753</td>\n",
              "      <td>At Ives Dairy Rd/203rd St/Exit 16 - Accident.</td>\n",
              "      <td>...</td>\n",
              "      <td>False</td>\n",
              "      <td>False</td>\n",
              "      <td>False</td>\n",
              "      <td>False</td>\n",
              "      <td>False</td>\n",
              "      <td>False</td>\n",
              "      <td>Night</td>\n",
              "      <td>Night</td>\n",
              "      <td>Night</td>\n",
              "      <td>Day</td>\n",
              "    </tr>\n",
              "    <tr>\n",
              "      <th>31735</th>\n",
              "      <td>A-31736</td>\n",
              "      <td>3</td>\n",
              "      <td>2016-12-01 06:03:23</td>\n",
              "      <td>2016-12-01 12:03:23</td>\n",
              "      <td>25.78447</td>\n",
              "      <td>-80.29346</td>\n",
              "      <td>25.78488</td>\n",
              "      <td>-80.28444</td>\n",
              "      <td>0.562</td>\n",
              "      <td>At SR-959/Red Rd - Accident.</td>\n",
              "      <td>...</td>\n",
              "      <td>False</td>\n",
              "      <td>False</td>\n",
              "      <td>False</td>\n",
              "      <td>False</td>\n",
              "      <td>False</td>\n",
              "      <td>False</td>\n",
              "      <td>Night</td>\n",
              "      <td>Night</td>\n",
              "      <td>Day</td>\n",
              "      <td>Day</td>\n",
              "    </tr>\n",
              "    <tr>\n",
              "      <th>31805</th>\n",
              "      <td>A-31806</td>\n",
              "      <td>2</td>\n",
              "      <td>2016-12-01 08:21:46</td>\n",
              "      <td>2016-12-01 14:21:46</td>\n",
              "      <td>25.91310</td>\n",
              "      <td>-80.21024</td>\n",
              "      <td>25.90780</td>\n",
              "      <td>-80.21023</td>\n",
              "      <td>0.366</td>\n",
              "      <td>At 151st St/Exit 11 - Accident.</td>\n",
              "      <td>...</td>\n",
              "      <td>False</td>\n",
              "      <td>False</td>\n",
              "      <td>False</td>\n",
              "      <td>False</td>\n",
              "      <td>False</td>\n",
              "      <td>False</td>\n",
              "      <td>Day</td>\n",
              "      <td>Day</td>\n",
              "      <td>Day</td>\n",
              "      <td>Day</td>\n",
              "    </tr>\n",
              "  </tbody>\n",
              "</table>\n",
              "<p>5 rows × 47 columns</p>\n",
              "</div>\n",
              "      <button class=\"colab-df-convert\" onclick=\"convertToInteractive('df-ed48a049-47e5-4fed-a3c4-6676eaddcc68')\"\n",
              "              title=\"Convert this dataframe to an interactive table.\"\n",
              "              style=\"display:none;\">\n",
              "        \n",
              "  <svg xmlns=\"http://www.w3.org/2000/svg\" height=\"24px\"viewBox=\"0 0 24 24\"\n",
              "       width=\"24px\">\n",
              "    <path d=\"M0 0h24v24H0V0z\" fill=\"none\"/>\n",
              "    <path d=\"M18.56 5.44l.94 2.06.94-2.06 2.06-.94-2.06-.94-.94-2.06-.94 2.06-2.06.94zm-11 1L8.5 8.5l.94-2.06 2.06-.94-2.06-.94L8.5 2.5l-.94 2.06-2.06.94zm10 10l.94 2.06.94-2.06 2.06-.94-2.06-.94-.94-2.06-.94 2.06-2.06.94z\"/><path d=\"M17.41 7.96l-1.37-1.37c-.4-.4-.92-.59-1.43-.59-.52 0-1.04.2-1.43.59L10.3 9.45l-7.72 7.72c-.78.78-.78 2.05 0 2.83L4 21.41c.39.39.9.59 1.41.59.51 0 1.02-.2 1.41-.59l7.78-7.78 2.81-2.81c.8-.78.8-2.07 0-2.86zM5.41 20L4 18.59l7.72-7.72 1.47 1.35L5.41 20z\"/>\n",
              "  </svg>\n",
              "      </button>\n",
              "      \n",
              "  <style>\n",
              "    .colab-df-container {\n",
              "      display:flex;\n",
              "      flex-wrap:wrap;\n",
              "      gap: 12px;\n",
              "    }\n",
              "\n",
              "    .colab-df-convert {\n",
              "      background-color: #E8F0FE;\n",
              "      border: none;\n",
              "      border-radius: 50%;\n",
              "      cursor: pointer;\n",
              "      display: none;\n",
              "      fill: #1967D2;\n",
              "      height: 32px;\n",
              "      padding: 0 0 0 0;\n",
              "      width: 32px;\n",
              "    }\n",
              "\n",
              "    .colab-df-convert:hover {\n",
              "      background-color: #E2EBFA;\n",
              "      box-shadow: 0px 1px 2px rgba(60, 64, 67, 0.3), 0px 1px 3px 1px rgba(60, 64, 67, 0.15);\n",
              "      fill: #174EA6;\n",
              "    }\n",
              "\n",
              "    [theme=dark] .colab-df-convert {\n",
              "      background-color: #3B4455;\n",
              "      fill: #D2E3FC;\n",
              "    }\n",
              "\n",
              "    [theme=dark] .colab-df-convert:hover {\n",
              "      background-color: #434B5C;\n",
              "      box-shadow: 0px 1px 3px 1px rgba(0, 0, 0, 0.15);\n",
              "      filter: drop-shadow(0px 1px 2px rgba(0, 0, 0, 0.3));\n",
              "      fill: #FFFFFF;\n",
              "    }\n",
              "  </style>\n",
              "\n",
              "      <script>\n",
              "        const buttonEl =\n",
              "          document.querySelector('#df-ed48a049-47e5-4fed-a3c4-6676eaddcc68 button.colab-df-convert');\n",
              "        buttonEl.style.display =\n",
              "          google.colab.kernel.accessAllowed ? 'block' : 'none';\n",
              "\n",
              "        async function convertToInteractive(key) {\n",
              "          const element = document.querySelector('#df-ed48a049-47e5-4fed-a3c4-6676eaddcc68');\n",
              "          const dataTable =\n",
              "            await google.colab.kernel.invokeFunction('convertToInteractive',\n",
              "                                                     [key], {});\n",
              "          if (!dataTable) return;\n",
              "\n",
              "          const docLinkHtml = 'Like what you see? Visit the ' +\n",
              "            '<a target=\"_blank\" href=https://colab.research.google.com/notebooks/data_table.ipynb>data table notebook</a>'\n",
              "            + ' to learn more about interactive tables.';\n",
              "          element.innerHTML = '';\n",
              "          dataTable['output_type'] = 'display_data';\n",
              "          await google.colab.output.renderOutput(dataTable, element);\n",
              "          const docLink = document.createElement('div');\n",
              "          docLink.innerHTML = docLinkHtml;\n",
              "          element.appendChild(docLink);\n",
              "        }\n",
              "      </script>\n",
              "    </div>\n",
              "  </div>\n",
              "  "
            ]
          },
          "metadata": {},
          "execution_count": 43
        }
      ]
    },
    {
      "cell_type": "markdown",
      "source": [
        "1. Severity"
      ],
      "metadata": {
        "id": "1dVwjhq_aa-S"
      }
    },
    {
      "cell_type": "code",
      "source": [
        "miami_florida.columns"
      ],
      "metadata": {
        "colab": {
          "base_uri": "https://localhost:8080/"
        },
        "id": "aSO5ZX5qZgLx",
        "outputId": "52dd6968-d3b5-4864-c40d-23ee8eae7bd8"
      },
      "execution_count": 33,
      "outputs": [
        {
          "output_type": "execute_result",
          "data": {
            "text/plain": [
              "Index(['ID', 'Severity', 'Start_Time', 'End_Time', 'Start_Lat', 'Start_Lng',\n",
              "       'End_Lat', 'End_Lng', 'Distance(mi)', 'Description', 'Number', 'Street',\n",
              "       'Side', 'City', 'County', 'State', 'Zipcode', 'Country', 'Timezone',\n",
              "       'Airport_Code', 'Weather_Timestamp', 'Temperature(F)', 'Wind_Chill(F)',\n",
              "       'Humidity(%)', 'Pressure(in)', 'Visibility(mi)', 'Wind_Direction',\n",
              "       'Wind_Speed(mph)', 'Precipitation(in)', 'Weather_Condition', 'Amenity',\n",
              "       'Bump', 'Crossing', 'Give_Way', 'Junction', 'No_Exit', 'Railway',\n",
              "       'Roundabout', 'Station', 'Stop', 'Traffic_Calming', 'Traffic_Signal',\n",
              "       'Turning_Loop', 'Sunrise_Sunset', 'Civil_Twilight', 'Nautical_Twilight',\n",
              "       'Astronomical_Twilight'],\n",
              "      dtype='object')"
            ]
          },
          "metadata": {},
          "execution_count": 33
        }
      ]
    },
    {
      "cell_type": "code",
      "source": [
        "miami_florida['Severity'].value_counts()"
      ],
      "metadata": {
        "colab": {
          "base_uri": "https://localhost:8080/"
        },
        "id": "rJ8aQ95sZgI9",
        "outputId": "0f952987-d8b7-4e8e-acc3-0e95d801c662"
      },
      "execution_count": 34,
      "outputs": [
        {
          "output_type": "execute_result",
          "data": {
            "text/plain": [
              "2    102903\n",
              "3      2376\n",
              "4      1565\n",
              "1        52\n",
              "Name: Severity, dtype: int64"
            ]
          },
          "metadata": {},
          "execution_count": 34
        }
      ]
    },
    {
      "cell_type": "markdown",
      "source": [
        "severity is not that high."
      ],
      "metadata": {
        "id": "PpKVGyIVbBad"
      }
    },
    {
      "cell_type": "markdown",
      "source": [
        "### Extracting week and Hour from datetime columns"
      ],
      "metadata": {
        "id": "CVHnasUX271m"
      }
    },
    {
      "cell_type": "code",
      "source": [
        "#now let's see at what time most accidents happen?\n",
        "#for this we use \"Start_Time\" feature\n",
        "pd.to_datetime(miami_florida['Start_Time']).dt.time\n",
        "miami_florida['hour']=pd.to_datetime(miami_florida['Start_Time']).dt.hour"
      ],
      "metadata": {
        "colab": {
          "base_uri": "https://localhost:8080/"
        },
        "id": "eaj3q2z3ZgGF",
        "outputId": "41ecf966-5b44-4f77-a6f2-73456045dabe"
      },
      "execution_count": 35,
      "outputs": [
        {
          "output_type": "stream",
          "name": "stderr",
          "text": [
            "/usr/local/lib/python3.7/dist-packages/ipykernel_launcher.py:4: SettingWithCopyWarning: \n",
            "A value is trying to be set on a copy of a slice from a DataFrame.\n",
            "Try using .loc[row_indexer,col_indexer] = value instead\n",
            "\n",
            "See the caveats in the documentation: https://pandas.pydata.org/pandas-docs/stable/user_guide/indexing.html#returning-a-view-versus-a-copy\n",
            "  after removing the cwd from sys.path.\n"
          ]
        }
      ]
    },
    {
      "cell_type": "code",
      "source": [
        "hour_list=list(miami_florida['hour'].value_counts().keys())\n",
        "hourly_accident=list(miami_florida['hour'].value_counts())"
      ],
      "metadata": {
        "id": "063n8HzyZgC-"
      },
      "execution_count": 36,
      "outputs": []
    },
    {
      "cell_type": "code",
      "source": [
        "plt.bar(hour_list,hourly_accident)\n",
        "plt.xlabel(\"hour\")\n",
        "plt.ylabel(\"accident count\")"
      ],
      "metadata": {
        "colab": {
          "base_uri": "https://localhost:8080/",
          "height": 296
        },
        "id": "VHf8D7LHgV2J",
        "outputId": "21cc5342-7828-49ce-c16f-9cd9c2f6f83b"
      },
      "execution_count": 37,
      "outputs": [
        {
          "output_type": "execute_result",
          "data": {
            "text/plain": [
              "Text(0, 0.5, 'accident count')"
            ]
          },
          "metadata": {},
          "execution_count": 37
        },
        {
          "output_type": "display_data",
          "data": {
            "text/plain": [
              "<Figure size 432x288 with 1 Axes>"
            ],
            "image/png": "[encoded data removed]"
          },
          "metadata": {
            "needs_background": "light"
          }
        }
      ]
    },
    {
      "cell_type": "markdown",
      "source": [
        "We can see that peak hours are around 1 or 2 p.m and most of the accidents happens in afternoon to evening time period."
      ],
      "metadata": {
        "id": "z8XGRw3KfCy3"
      }
    },
    {
      "cell_type": "code",
      "source": [
        "#noew let's get the weekdays and analyse accidents weekly\n",
        "miami_florida['week']=pd.to_datetime(miami_florida['Start_Time']).dt.dayofweek"
      ],
      "metadata": {
        "colab": {
          "base_uri": "https://localhost:8080/"
        },
        "id": "CUJhSS7LZf9N",
        "outputId": "1e4a6656-083e-4640-8a92-21018e181c5a"
      },
      "execution_count": 38,
      "outputs": [
        {
          "output_type": "stream",
          "name": "stderr",
          "text": [
            "/usr/local/lib/python3.7/dist-packages/ipykernel_launcher.py:2: SettingWithCopyWarning: \n",
            "A value is trying to be set on a copy of a slice from a DataFrame.\n",
            "Try using .loc[row_indexer,col_indexer] = value instead\n",
            "\n",
            "See the caveats in the documentation: https://pandas.pydata.org/pandas-docs/stable/user_guide/indexing.html#returning-a-view-versus-a-copy\n",
            "  \n"
          ]
        }
      ]
    },
    {
      "cell_type": "code",
      "source": [
        "week_list=list(miami_florida['week'].value_counts().keys())\n",
        "acc_by_week=list(miami_florida['week'].value_counts())\n",
        "plt.bar(week_list, acc_by_week)\n",
        "plt.xlabel(\"week\")\n",
        "plt.ylabel(\"accident count\")"
      ],
      "metadata": {
        "colab": {
          "base_uri": "https://localhost:8080/",
          "height": 296
        },
        "id": "4t1LRXlpZf6e",
        "outputId": "5227bd4b-0442-4888-98da-7a71be69bda4"
      },
      "execution_count": 39,
      "outputs": [
        {
          "output_type": "execute_result",
          "data": {
            "text/plain": [
              "Text(0, 0.5, 'accident count')"
            ]
          },
          "metadata": {},
          "execution_count": 39
        },
        {
          "output_type": "display_data",
          "data": {
            "text/plain": [
              "<Figure size 432x288 with 1 Axes>"
            ],
            "image/png": "[encoded data removed]"
          },
          "metadata": {
            "needs_background": "light"
          }
        }
      ]
    },
    {
      "cell_type": "markdown",
      "source": [
        "Wed and Fri are peak week days for accident.\n",
        "* Monday to Sunday: 0-6"
      ],
      "metadata": {
        "id": "FGuiT-gjiWpo"
      }
    },
    {
      "cell_type": "code",
      "source": [
        "#now let's find on these peek days what is the hour of accident\n",
        "week_list=miami_florida[miami_florida['week']==2]['hour'].value_counts().keys()\n",
        "acc_by_week= miami_florida[miami_florida['week']==2]['hour'].value_counts()\n",
        "plt.bar(week_list, acc_by_week)\n",
        "plt.title(\"accident count of peek hour at 2 p.m.\")\n",
        "plt.xlabel(\"week\")\n",
        "plt.ylabel(\"accident count\")"
      ],
      "metadata": {
        "colab": {
          "base_uri": "https://localhost:8080/",
          "height": 312
        },
        "id": "RnEgMliwZf3N",
        "outputId": "af7ab62c-0b98-42e7-abbd-611c5af345ee"
      },
      "execution_count": 40,
      "outputs": [
        {
          "output_type": "execute_result",
          "data": {
            "text/plain": [
              "Text(0, 0.5, 'accident count')"
            ]
          },
          "metadata": {},
          "execution_count": 40
        },
        {
          "output_type": "display_data",
          "data": {
            "text/plain": [
              "<Figure size 432x288 with 1 Axes>"
            ],
            "image/png": "[encoded data removed]"
          },
          "metadata": {
            "needs_background": "light"
          }
        }
      ]
    },
    {
      "cell_type": "markdown",
      "source": [
        "peak hour is same for week 2"
      ],
      "metadata": {
        "id": "CyzcSD3MWET3"
      }
    },
    {
      "cell_type": "markdown",
      "source": [
        "### Extracting year from datetime column"
      ],
      "metadata": {
        "id": "pYxc5HJ-3PLK"
      }
    },
    {
      "cell_type": "code",
      "source": [
        "pd.to_datetime(miami_florida['Start_Time']).dt.year\n",
        "miami_florida['Year']=pd.to_datetime(miami_florida['Start_Time']).dt.year"
      ],
      "metadata": {
        "colab": {
          "base_uri": "https://localhost:8080/"
        },
        "id": "G0YtSjpn3TVc",
        "outputId": "9c65a287-0a8f-42be-e60c-83907f29dd3b"
      },
      "execution_count": 114,
      "outputs": [
        {
          "output_type": "stream",
          "name": "stderr",
          "text": [
            "/usr/local/lib/python3.7/dist-packages/ipykernel_launcher.py:2: SettingWithCopyWarning: \n",
            "A value is trying to be set on a copy of a slice from a DataFrame.\n",
            "Try using .loc[row_indexer,col_indexer] = value instead\n",
            "\n",
            "See the caveats in the documentation: https://pandas.pydata.org/pandas-docs/stable/user_guide/indexing.html#returning-a-view-versus-a-copy\n",
            "  \n"
          ]
        }
      ]
    },
    {
      "cell_type": "code",
      "source": [
        "plt.bar(miami_florida['Year'].value_counts().keys(), miami_florida['Year'].value_counts())\n",
        "plt.xlabel('Year')\n",
        "plt.ylabel(\"accident count\")\n",
        "plt.title(\"Accident by Year in Miami,Florida\")"
      ],
      "metadata": {
        "colab": {
          "base_uri": "https://localhost:8080/",
          "height": 312
        },
        "id": "hRbOXsee3TOL",
        "outputId": "a805e9b8-33d8-488f-ab26-2def70fd9187"
      },
      "execution_count": 116,
      "outputs": [
        {
          "output_type": "execute_result",
          "data": {
            "text/plain": [
              "Text(0.5, 1.0, 'Accident by Year in Miami,Florida')"
            ]
          },
          "metadata": {},
          "execution_count": 116
        },
        {
          "output_type": "display_data",
          "data": {
            "text/plain": [
              "<Figure size 432x288 with 1 Axes>"
            ],
            "image/png": "[encoded data removed]"
          },
          "metadata": {
            "needs_background": "light"
          }
        }
      ]
    },
    {
      "cell_type": "code",
      "source": [
        "data['Year']=pd.to_datetime(data['Start_Time']).dt.year\n",
        "plt.bar(data['Year'].value_counts().keys(), data['Year'].value_counts())\n",
        "plt.xlabel('Year')\n",
        "plt.ylabel(\"accident count\")\n",
        "plt.title(\"Accident by Year in USA\")"
      ],
      "metadata": {
        "colab": {
          "base_uri": "https://localhost:8080/",
          "height": 312
        },
        "id": "lGKrgyFR7OaN",
        "outputId": "80f7b914-127d-4013-ac25-bc12215b3107"
      },
      "execution_count": 122,
      "outputs": [
        {
          "output_type": "execute_result",
          "data": {
            "text/plain": [
              "Text(0.5, 1.0, 'Accident by Year in USA')"
            ]
          },
          "metadata": {},
          "execution_count": 122
        },
        {
          "output_type": "display_data",
          "data": {
            "text/plain": [
              "<Figure size 432x288 with 1 Axes>"
            ],
            "image/png": "[encoded data removed]"
          },
          "metadata": {
            "needs_background": "light"
          }
        }
      ]
    },
    {
      "cell_type": "markdown",
      "source": [
        "**Obs:** Before pandemic, the accidents were very low but as soon as effect of pandemic going down, accident is getting high. Strange!! Surprisingly **2021 was the deadliest year in whole USA and in Miami also.**"
      ],
      "metadata": {
        "id": "W7dkRted40xG"
      }
    },
    {
      "cell_type": "markdown",
      "source": [
        "### Extracting month"
      ],
      "metadata": {
        "id": "cCZ4u6cE6ZuI"
      }
    },
    {
      "cell_type": "code",
      "source": [
        "pd.to_datetime(miami_florida['Start_Time']).dt.month\n",
        "miami_florida['Month']=pd.to_datetime(miami_florida['Start_Time']).dt.month"
      ],
      "metadata": {
        "colab": {
          "base_uri": "https://localhost:8080/"
        },
        "id": "V_8SNPcF3TLA",
        "outputId": "2c57567b-4d22-4049-bea8-d7b398e7d5da"
      },
      "execution_count": 118,
      "outputs": [
        {
          "output_type": "stream",
          "name": "stderr",
          "text": [
            "/usr/local/lib/python3.7/dist-packages/ipykernel_launcher.py:2: SettingWithCopyWarning: \n",
            "A value is trying to be set on a copy of a slice from a DataFrame.\n",
            "Try using .loc[row_indexer,col_indexer] = value instead\n",
            "\n",
            "See the caveats in the documentation: https://pandas.pydata.org/pandas-docs/stable/user_guide/indexing.html#returning-a-view-versus-a-copy\n",
            "  \n"
          ]
        }
      ]
    },
    {
      "cell_type": "code",
      "source": [
        "plt.bar(miami_florida['Month'].value_counts().keys(), miami_florida['Month'].value_counts())\n",
        "plt.xlabel('Month')\n",
        "plt.ylabel(\"accident count\")\n",
        "plt.title(\"Accident by Month in Miami,Florida\")"
      ],
      "metadata": {
        "colab": {
          "base_uri": "https://localhost:8080/",
          "height": 312
        },
        "id": "zadjngzq3THx",
        "outputId": "3f88d1a1-9b26-447c-9c01-57fe1a4e183f"
      },
      "execution_count": 119,
      "outputs": [
        {
          "output_type": "execute_result",
          "data": {
            "text/plain": [
              "Text(0.5, 1.0, 'Accident by Month in Miami,Florida')"
            ]
          },
          "metadata": {},
          "execution_count": 119
        },
        {
          "output_type": "display_data",
          "data": {
            "text/plain": [
              "<Figure size 432x288 with 1 Axes>"
            ],
            "image/png": "[encoded data removed]"
          },
          "metadata": {
            "needs_background": "light"
          }
        }
      ]
    },
    {
      "cell_type": "code",
      "source": [
        "data['Month']=pd.to_datetime(data['Start_Time']).dt.month"
      ],
      "metadata": {
        "id": "2zdnY5VJ3TEZ"
      },
      "execution_count": 120,
      "outputs": []
    },
    {
      "cell_type": "code",
      "source": [
        "plt.bar(data['Month'].value_counts().keys(), data['Month'].value_counts())\n",
        "plt.xlabel('Month')\n",
        "plt.ylabel(\"accident count\")\n",
        "plt.title(\"Accident by Month in USA\")"
      ],
      "metadata": {
        "colab": {
          "base_uri": "https://localhost:8080/",
          "height": 312
        },
        "id": "gn3_qug77Bqy",
        "outputId": "f451c1f5-f55b-4389-f324-0f6340c17f72"
      },
      "execution_count": 121,
      "outputs": [
        {
          "output_type": "execute_result",
          "data": {
            "text/plain": [
              "Text(0.5, 1.0, 'Accident by Month in USA')"
            ]
          },
          "metadata": {},
          "execution_count": 121
        },
        {
          "output_type": "display_data",
          "data": {
            "text/plain": [
              "<Figure size 432x288 with 1 Axes>"
            ],
            "image/png": "[encoded data removed]"
          },
          "metadata": {
            "needs_background": "light"
          }
        }
      ]
    },
    {
      "cell_type": "code",
      "source": [
        ""
      ],
      "metadata": {
        "id": "J0IVClie7MPM"
      },
      "execution_count": null,
      "outputs": []
    },
    {
      "cell_type": "code",
      "source": [
        "miami_florida.columns"
      ],
      "metadata": {
        "id": "oOthD7CUZf0g",
        "colab": {
          "base_uri": "https://localhost:8080/"
        },
        "outputId": "79e07f2e-418a-4c70-9720-bd48f5870a8f"
      },
      "execution_count": 41,
      "outputs": [
        {
          "output_type": "execute_result",
          "data": {
            "text/plain": [
              "Index(['ID', 'Severity', 'Start_Time', 'End_Time', 'Start_Lat', 'Start_Lng',\n",
              "       'End_Lat', 'End_Lng', 'Distance(mi)', 'Description', 'Number', 'Street',\n",
              "       'Side', 'City', 'County', 'State', 'Zipcode', 'Country', 'Timezone',\n",
              "       'Airport_Code', 'Weather_Timestamp', 'Temperature(F)', 'Wind_Chill(F)',\n",
              "       'Humidity(%)', 'Pressure(in)', 'Visibility(mi)', 'Wind_Direction',\n",
              "       'Wind_Speed(mph)', 'Precipitation(in)', 'Weather_Condition', 'Amenity',\n",
              "       'Bump', 'Crossing', 'Give_Way', 'Junction', 'No_Exit', 'Railway',\n",
              "       'Roundabout', 'Station', 'Stop', 'Traffic_Calming', 'Traffic_Signal',\n",
              "       'Turning_Loop', 'Sunrise_Sunset', 'Civil_Twilight', 'Nautical_Twilight',\n",
              "       'Astronomical_Twilight', 'hour', 'week'],\n",
              "      dtype='object')"
            ]
          },
          "metadata": {},
          "execution_count": 41
        }
      ]
    },
    {
      "cell_type": "code",
      "source": [
        "#to better view about the data\n",
        "#let's plot correlation matrix\n",
        "miami_florida.corr()"
      ],
      "metadata": {
        "id": "dVpnUdvOZfva",
        "colab": {
          "base_uri": "https://localhost:8080/",
          "height": 1000
        },
        "outputId": "8ea5234f-1f6d-48f2-962e-b7a24e51cc4b"
      },
      "execution_count": 42,
      "outputs": [
        {
          "output_type": "execute_result",
          "data": {
            "text/plain": [
              "                   Severity  Start_Lat  Start_Lng   End_Lat   End_Lng  \\\n",
              "Severity           1.000000   0.104496   0.122909  0.105753  0.121903   \n",
              "Start_Lat          0.104496   1.000000   0.813400  0.994534  0.811874   \n",
              "Start_Lng          0.122909   0.813400   1.000000  0.812348  0.998094   \n",
              "End_Lat            0.105753   0.994534   0.812348  1.000000  0.811444   \n",
              "End_Lng            0.121903   0.811874   0.998094  0.811444  1.000000   \n",
              "Distance(mi)       0.093915   0.161797   0.187089  0.179728  0.187575   \n",
              "Number            -0.034496  -0.363367  -0.366808 -0.362866 -0.366477   \n",
              "Temperature(F)    -0.009886  -0.053484  -0.054522 -0.052740 -0.055632   \n",
              "Wind_Chill(F)      0.010341  -0.057234  -0.059403 -0.056473 -0.060681   \n",
              "Humidity(%)        0.038514   0.025326   0.026993  0.024810  0.028203   \n",
              "Pressure(in)       0.032305   0.054719   0.057606  0.055374  0.057853   \n",
              "Visibility(mi)     0.001296   0.024983   0.028072  0.023192  0.027863   \n",
              "Wind_Speed(mph)    0.006925  -0.003248   0.011537 -0.001891  0.009748   \n",
              "Precipitation(in)  0.025249   0.007762   0.007571  0.008461  0.007240   \n",
              "Amenity           -0.018580  -0.027712  -0.015106 -0.027583 -0.014772   \n",
              "Bump              -0.001759  -0.008903  -0.011059 -0.008867 -0.010986   \n",
              "Crossing          -0.057098  -0.263653  -0.141102 -0.264462 -0.142498   \n",
              "Give_Way           0.009372  -0.023036  -0.019341 -0.022776 -0.019425   \n",
              "Junction           0.204610   0.121184   0.140582  0.122249  0.141174   \n",
              "No_Exit            0.019772   0.003601   0.023036  0.003624  0.023255   \n",
              "Railway           -0.008904   0.046216   0.053209  0.046375  0.051812   \n",
              "Roundabout        -0.003148   0.006435   0.004171  0.006359  0.004051   \n",
              "Station           -0.070889   0.043750   0.049990  0.043718  0.049899   \n",
              "Stop              -0.014700   0.023011   0.043035  0.023002  0.044486   \n",
              "Traffic_Calming   -0.003815   0.001874   0.013076  0.001991  0.013161   \n",
              "Traffic_Signal    -0.027311  -0.043204  -0.031283 -0.043687 -0.031765   \n",
              "Turning_Loop            NaN        NaN        NaN       NaN       NaN   \n",
              "hour              -0.066502  -0.028850  -0.030816 -0.026345 -0.033844   \n",
              "week               0.015518  -0.000334   0.009109 -0.000093  0.009731   \n",
              "\n",
              "                   Distance(mi)    Number  Temperature(F)  Wind_Chill(F)  \\\n",
              "Severity               0.093915 -0.034496       -0.009886       0.010341   \n",
              "Start_Lat              0.161797 -0.363367       -0.053484      -0.057234   \n",
              "Start_Lng              0.187089 -0.366808       -0.054522      -0.059403   \n",
              "End_Lat                0.179728 -0.362866       -0.052740      -0.056473   \n",
              "End_Lng                0.187575 -0.366477       -0.055632      -0.060681   \n",
              "Distance(mi)           1.000000  0.007499       -0.005423      -0.002109   \n",
              "Number                 0.007499  1.000000       -0.012541      -0.014379   \n",
              "Temperature(F)        -0.005423 -0.012541        1.000000       0.999833   \n",
              "Wind_Chill(F)         -0.002109 -0.014379        0.999833       1.000000   \n",
              "Humidity(%)            0.050537 -0.011463       -0.258200      -0.258854   \n",
              "Pressure(in)          -0.000455  0.017119       -0.299804      -0.301679   \n",
              "Visibility(mi)        -0.012070 -0.013270        0.117449       0.116139   \n",
              "Wind_Speed(mph)       -0.015832 -0.001831        0.265888       0.267169   \n",
              "Precipitation(in)      0.012230 -0.016146       -0.039020      -0.037222   \n",
              "Amenity               -0.036174  0.022118        0.001081       0.001235   \n",
              "Bump                  -0.003898  0.007277       -0.000135      -0.000099   \n",
              "Crossing              -0.107671  0.081299        0.010193       0.006938   \n",
              "Give_Way              -0.009535 -0.007609       -0.005764      -0.009240   \n",
              "Junction               0.111458 -0.043972       -0.010591      -0.011962   \n",
              "No_Exit               -0.000554  0.012707       -0.003987      -0.006816   \n",
              "Railway               -0.011965 -0.071947       -0.002779      -0.002911   \n",
              "Roundabout            -0.006498 -0.005811       -0.005346      -0.005467   \n",
              "Station               -0.105252 -0.091841        0.013713       0.014898   \n",
              "Stop                  -0.019162 -0.050712        0.011377       0.012345   \n",
              "Traffic_Calming       -0.007865 -0.019931        0.003106       0.003308   \n",
              "Traffic_Signal        -0.084376 -0.003539       -0.049264      -0.059348   \n",
              "Turning_Loop                NaN       NaN             NaN            NaN   \n",
              "hour                  -0.041732 -0.005660        0.237467       0.237562   \n",
              "week                   0.012293  0.035932       -0.009146      -0.003837   \n",
              "\n",
              "                   Humidity(%)  ...   No_Exit   Railway  Roundabout   Station  \\\n",
              "Severity              0.038514  ...  0.019772 -0.008904   -0.003148 -0.070889   \n",
              "Start_Lat             0.025326  ...  0.003601  0.046216    0.006435  0.043750   \n",
              "Start_Lng             0.026993  ...  0.023036  0.053209    0.004171  0.049990   \n",
              "End_Lat               0.024810  ...  0.003624  0.046375    0.006359  0.043718   \n",
              "End_Lng               0.028203  ...  0.023255  0.051812    0.004051  0.049899   \n",
              "Distance(mi)          0.050537  ... -0.000554 -0.011965   -0.006498 -0.105252   \n",
              "Number               -0.011463  ...  0.012707 -0.071947   -0.005811 -0.091841   \n",
              "Temperature(F)       -0.258200  ... -0.003987 -0.002779   -0.005346  0.013713   \n",
              "Wind_Chill(F)        -0.258854  ... -0.006816 -0.002911   -0.005467  0.014898   \n",
              "Humidity(%)           1.000000  ...  0.002690 -0.014108    0.007023 -0.031304   \n",
              "Pressure(in)         -0.181799  ...  0.009551  0.006822    0.002997 -0.015120   \n",
              "Visibility(mi)       -0.308432  ...  0.001177  0.008703    0.001114  0.002496   \n",
              "Wind_Speed(mph)      -0.409019  ...  0.006180  0.008648   -0.000873  0.014922   \n",
              "Precipitation(in)     0.179703  ...  0.000731 -0.002696    0.000992 -0.008166   \n",
              "Amenity              -0.011384  ... -0.009768 -0.006273   -0.002453  0.022918   \n",
              "Bump                  0.003439  ...  0.009943 -0.000884   -0.000167  0.001383   \n",
              "Crossing             -0.031112  ...  0.028466  0.088205   -0.002776  0.074687   \n",
              "Give_Way              0.002441  ... -0.003357  0.054871    0.013899 -0.015584   \n",
              "Junction              0.050007  ...  0.015407 -0.017285    0.077357 -0.087385   \n",
              "No_Exit               0.002690  ...  1.000000 -0.005935   -0.001560 -0.010423   \n",
              "Railway              -0.014108  ... -0.005935  1.000000   -0.001582  0.035616   \n",
              "Roundabout            0.007023  ... -0.001560 -0.001582    1.000000 -0.007243   \n",
              "Station              -0.031304  ... -0.010423  0.035616   -0.007243  1.000000   \n",
              "Stop                 -0.001907  ... -0.001145 -0.003838   -0.001437  0.060481   \n",
              "Traffic_Calming       0.004566  ...  0.003098 -0.001917   -0.000363  0.025052   \n",
              "Traffic_Signal        0.021805  ...  0.028681  0.050023   -0.006580  0.046800   \n",
              "Turning_Loop               NaN  ...       NaN       NaN         NaN       NaN   \n",
              "hour                 -0.265631  ...  0.002996  0.002960    0.003846  0.012302   \n",
              "week                  0.093968  ... -0.001136 -0.006076    0.000691 -0.015973   \n",
              "\n",
              "                       Stop  Traffic_Calming  Traffic_Signal  Turning_Loop  \\\n",
              "Severity          -0.014700        -0.003815       -0.027311           NaN   \n",
              "Start_Lat          0.023011         0.001874       -0.043204           NaN   \n",
              "Start_Lng          0.043035         0.013076       -0.031283           NaN   \n",
              "End_Lat            0.023002         0.001991       -0.043687           NaN   \n",
              "End_Lng            0.044486         0.013161       -0.031765           NaN   \n",
              "Distance(mi)      -0.019162        -0.007865       -0.084376           NaN   \n",
              "Number            -0.050712        -0.019931       -0.003539           NaN   \n",
              "Temperature(F)     0.011377         0.003106       -0.049264           NaN   \n",
              "Wind_Chill(F)      0.012345         0.003308       -0.059348           NaN   \n",
              "Humidity(%)       -0.001907         0.004566        0.021805           NaN   \n",
              "Pressure(in)      -0.012363         0.001233        0.019999           NaN   \n",
              "Visibility(mi)    -0.001208        -0.003882        0.006302           NaN   \n",
              "Wind_Speed(mph)    0.000197        -0.001862       -0.014817           NaN   \n",
              "Precipitation(in)  0.003198         0.000762       -0.005728           NaN   \n",
              "Amenity           -0.009319         0.000239        0.045611           NaN   \n",
              "Bump              -0.000803         0.461186       -0.003678           NaN   \n",
              "Crossing           0.099556         0.002493        0.302038           NaN   \n",
              "Give_Way           0.003010        -0.000781        0.084286           NaN   \n",
              "Junction          -0.016321        -0.004538       -0.076834           NaN   \n",
              "No_Exit           -0.001145         0.003098        0.028681           NaN   \n",
              "Railway           -0.003838        -0.001917        0.050023           NaN   \n",
              "Roundabout        -0.001437        -0.000363       -0.006580           NaN   \n",
              "Station            0.060481         0.025052        0.046800           NaN   \n",
              "Stop               1.000000         0.014492       -0.018943           NaN   \n",
              "Traffic_Calming    0.014492         1.000000       -0.007976           NaN   \n",
              "Traffic_Signal    -0.018943        -0.007976        1.000000           NaN   \n",
              "Turning_Loop            NaN              NaN             NaN           NaN   \n",
              "hour              -0.008818        -0.000237       -0.000547           NaN   \n",
              "week               0.012726        -0.001190        0.014917           NaN   \n",
              "\n",
              "                       hour      week  \n",
              "Severity          -0.066502  0.015518  \n",
              "Start_Lat         -0.028850 -0.000334  \n",
              "Start_Lng         -0.030816  0.009109  \n",
              "End_Lat           -0.026345 -0.000093  \n",
              "End_Lng           -0.033844  0.009731  \n",
              "Distance(mi)      -0.041732  0.012293  \n",
              "Number            -0.005660  0.035932  \n",
              "Temperature(F)     0.237467 -0.009146  \n",
              "Wind_Chill(F)      0.237562 -0.003837  \n",
              "Humidity(%)       -0.265631  0.093968  \n",
              "Pressure(in)      -0.064459 -0.019576  \n",
              "Visibility(mi)     0.030053 -0.017924  \n",
              "Wind_Speed(mph)    0.189808 -0.056928  \n",
              "Precipitation(in)  0.029789  0.008314  \n",
              "Amenity            0.008159  0.004931  \n",
              "Bump              -0.003426  0.001533  \n",
              "Crossing           0.014716  0.004703  \n",
              "Give_Way           0.001662  0.004830  \n",
              "Junction          -0.047216  0.011951  \n",
              "No_Exit            0.002996 -0.001136  \n",
              "Railway            0.002960 -0.006076  \n",
              "Roundabout         0.003846  0.000691  \n",
              "Station            0.012302 -0.015973  \n",
              "Stop              -0.008818  0.012726  \n",
              "Traffic_Calming   -0.000237 -0.001190  \n",
              "Traffic_Signal    -0.000547  0.014917  \n",
              "Turning_Loop            NaN       NaN  \n",
              "hour               1.000000 -0.031644  \n",
              "week              -0.031644  1.000000  \n",
              "\n",
              "[29 rows x 29 columns]"
            ],
            "text/html": [
              "\n",
              "  <div id=\"df-e95cdb83-1688-425c-ac84-f9d5523fad85\">\n",
              "    <div class=\"colab-df-container\">\n",
              "      <div>\n",
              "<style scoped>\n",
              "    .dataframe tbody tr th:only-of-type {\n",
              "        vertical-align: middle;\n",
              "    }\n",
              "\n",
              "    .dataframe tbody tr th {\n",
              "        vertical-align: top;\n",
              "    }\n",
              "\n",
              "    .dataframe thead th {\n",
              "        text-align: right;\n",
              "    }\n",
              "</style>\n",
              "<table border=\"1\" class=\"dataframe\">\n",
              "  <thead>\n",
              "    <tr style=\"text-align: right;\">\n",
              "      <th></th>\n",
              "      <th>Severity</th>\n",
              "      <th>Start_Lat</th>\n",
              "      <th>Start_Lng</th>\n",
              "      <th>End_Lat</th>\n",
              "      <th>End_Lng</th>\n",
              "      <th>Distance(mi)</th>\n",
              "      <th>Number</th>\n",
              "      <th>Temperature(F)</th>\n",
              "      <th>Wind_Chill(F)</th>\n",
              "      <th>Humidity(%)</th>\n",
              "      <th>...</th>\n",
              "      <th>No_Exit</th>\n",
              "      <th>Railway</th>\n",
              "      <th>Roundabout</th>\n",
              "      <th>Station</th>\n",
              "      <th>Stop</th>\n",
              "      <th>Traffic_Calming</th>\n",
              "      <th>Traffic_Signal</th>\n",
              "      <th>Turning_Loop</th>\n",
              "      <th>hour</th>\n",
              "      <th>week</th>\n",
              "    </tr>\n",
              "  </thead>\n",
              "  <tbody>\n",
              "    <tr>\n",
              "      <th>Severity</th>\n",
              "      <td>1.000000</td>\n",
              "      <td>0.104496</td>\n",
              "      <td>0.122909</td>\n",
              "      <td>0.105753</td>\n",
              "      <td>0.121903</td>\n",
              "      <td>0.093915</td>\n",
              "      <td>-0.034496</td>\n",
              "      <td>-0.009886</td>\n",
              "      <td>0.010341</td>\n",
              "      <td>0.038514</td>\n",
              "      <td>...</td>\n",
              "      <td>0.019772</td>\n",
              "      <td>-0.008904</td>\n",
              "      <td>-0.003148</td>\n",
              "      <td>-0.070889</td>\n",
              "      <td>-0.014700</td>\n",
              "      <td>-0.003815</td>\n",
              "      <td>-0.027311</td>\n",
              "      <td>NaN</td>\n",
              "      <td>-0.066502</td>\n",
              "      <td>0.015518</td>\n",
              "    </tr>\n",
              "    <tr>\n",
              "      <th>Start_Lat</th>\n",
              "      <td>0.104496</td>\n",
              "      <td>1.000000</td>\n",
              "      <td>0.813400</td>\n",
              "      <td>0.994534</td>\n",
              "      <td>0.811874</td>\n",
              "      <td>0.161797</td>\n",
              "      <td>-0.363367</td>\n",
              "      <td>-0.053484</td>\n",
              "      <td>-0.057234</td>\n",
              "      <td>0.025326</td>\n",
              "      <td>...</td>\n",
              "      <td>0.003601</td>\n",
              "      <td>0.046216</td>\n",
              "      <td>0.006435</td>\n",
              "      <td>0.043750</td>\n",
              "      <td>0.023011</td>\n",
              "      <td>0.001874</td>\n",
              "      <td>-0.043204</td>\n",
              "      <td>NaN</td>\n",
              "      <td>-0.028850</td>\n",
              "      <td>-0.000334</td>\n",
              "    </tr>\n",
              "    <tr>\n",
              "      <th>Start_Lng</th>\n",
              "      <td>0.122909</td>\n",
              "      <td>0.813400</td>\n",
              "      <td>1.000000</td>\n",
              "      <td>0.812348</td>\n",
              "      <td>0.998094</td>\n",
              "      <td>0.187089</td>\n",
              "      <td>-0.366808</td>\n",
              "      <td>-0.054522</td>\n",
              "      <td>-0.059403</td>\n",
              "      <td>0.026993</td>\n",
              "      <td>...</td>\n",
              "      <td>0.023036</td>\n",
              "      <td>0.053209</td>\n",
              "      <td>0.004171</td>\n",
              "      <td>0.049990</td>\n",
              "      <td>0.043035</td>\n",
              "      <td>0.013076</td>\n",
              "      <td>-0.031283</td>\n",
              "      <td>NaN</td>\n",
              "      <td>-0.030816</td>\n",
              "      <td>0.009109</td>\n",
              "    </tr>\n",
              "    <tr>\n",
              "      <th>End_Lat</th>\n",
              "      <td>0.105753</td>\n",
              "      <td>0.994534</td>\n",
              "      <td>0.812348</td>\n",
              "      <td>1.000000</td>\n",
              "      <td>0.811444</td>\n",
              "      <td>0.179728</td>\n",
              "      <td>-0.362866</td>\n",
              "      <td>-0.052740</td>\n",
              "      <td>-0.056473</td>\n",
              "      <td>0.024810</td>\n",
              "      <td>...</td>\n",
              "      <td>0.003624</td>\n",
              "      <td>0.046375</td>\n",
              "      <td>0.006359</td>\n",
              "      <td>0.043718</td>\n",
              "      <td>0.023002</td>\n",
              "      <td>0.001991</td>\n",
              "      <td>-0.043687</td>\n",
              "      <td>NaN</td>\n",
              "      <td>-0.026345</td>\n",
              "      <td>-0.000093</td>\n",
              "    </tr>\n",
              "    <tr>\n",
              "      <th>End_Lng</th>\n",
              "      <td>0.121903</td>\n",
              "      <td>0.811874</td>\n",
              "      <td>0.998094</td>\n",
              "      <td>0.811444</td>\n",
              "      <td>1.000000</td>\n",
              "      <td>0.187575</td>\n",
              "      <td>-0.366477</td>\n",
              "      <td>-0.055632</td>\n",
              "      <td>-0.060681</td>\n",
              "      <td>0.028203</td>\n",
              "      <td>...</td>\n",
              "      <td>0.023255</td>\n",
              "      <td>0.051812</td>\n",
              "      <td>0.004051</td>\n",
              "      <td>0.049899</td>\n",
              "      <td>0.044486</td>\n",
              "      <td>0.013161</td>\n",
              "      <td>-0.031765</td>\n",
              "      <td>NaN</td>\n",
              "      <td>-0.033844</td>\n",
              "      <td>0.009731</td>\n",
              "    </tr>\n",
              "    <tr>\n",
              "      <th>Distance(mi)</th>\n",
              "      <td>0.093915</td>\n",
              "      <td>0.161797</td>\n",
              "      <td>0.187089</td>\n",
              "      <td>0.179728</td>\n",
              "      <td>0.187575</td>\n",
              "      <td>1.000000</td>\n",
              "      <td>0.007499</td>\n",
              "      <td>-0.005423</td>\n",
              "      <td>-0.002109</td>\n",
              "      <td>0.050537</td>\n",
              "      <td>...</td>\n",
              "      <td>-0.000554</td>\n",
              "      <td>-0.011965</td>\n",
              "      <td>-0.006498</td>\n",
              "      <td>-0.105252</td>\n",
              "      <td>-0.019162</td>\n",
              "      <td>-0.007865</td>\n",
              "      <td>-0.084376</td>\n",
              "      <td>NaN</td>\n",
              "      <td>-0.041732</td>\n",
              "      <td>0.012293</td>\n",
              "    </tr>\n",
              "    <tr>\n",
              "      <th>Number</th>\n",
              "      <td>-0.034496</td>\n",
              "      <td>-0.363367</td>\n",
              "      <td>-0.366808</td>\n",
              "      <td>-0.362866</td>\n",
              "      <td>-0.366477</td>\n",
              "      <td>0.007499</td>\n",
              "      <td>1.000000</td>\n",
              "      <td>-0.012541</td>\n",
              "      <td>-0.014379</td>\n",
              "      <td>-0.011463</td>\n",
              "      <td>...</td>\n",
              "      <td>0.012707</td>\n",
              "      <td>-0.071947</td>\n",
              "      <td>-0.005811</td>\n",
              "      <td>-0.091841</td>\n",
              "      <td>-0.050712</td>\n",
              "      <td>-0.019931</td>\n",
              "      <td>-0.003539</td>\n",
              "      <td>NaN</td>\n",
              "      <td>-0.005660</td>\n",
              "      <td>0.035932</td>\n",
              "    </tr>\n",
              "    <tr>\n",
              "      <th>Temperature(F)</th>\n",
              "      <td>-0.009886</td>\n",
              "      <td>-0.053484</td>\n",
              "      <td>-0.054522</td>\n",
              "      <td>-0.052740</td>\n",
              "      <td>-0.055632</td>\n",
              "      <td>-0.005423</td>\n",
              "      <td>-0.012541</td>\n",
              "      <td>1.000000</td>\n",
              "      <td>0.999833</td>\n",
              "      <td>-0.258200</td>\n",
              "      <td>...</td>\n",
              "      <td>-0.003987</td>\n",
              "      <td>-0.002779</td>\n",
              "      <td>-0.005346</td>\n",
              "      <td>0.013713</td>\n",
              "      <td>0.011377</td>\n",
              "      <td>0.003106</td>\n",
              "      <td>-0.049264</td>\n",
              "      <td>NaN</td>\n",
              "      <td>0.237467</td>\n",
              "      <td>-0.009146</td>\n",
              "    </tr>\n",
              "    <tr>\n",
              "      <th>Wind_Chill(F)</th>\n",
              "      <td>0.010341</td>\n",
              "      <td>-0.057234</td>\n",
              "      <td>-0.059403</td>\n",
              "      <td>-0.056473</td>\n",
              "      <td>-0.060681</td>\n",
              "      <td>-0.002109</td>\n",
              "      <td>-0.014379</td>\n",
              "      <td>0.999833</td>\n",
              "      <td>1.000000</td>\n",
              "      <td>-0.258854</td>\n",
              "      <td>...</td>\n",
              "      <td>-0.006816</td>\n",
              "      <td>-0.002911</td>\n",
              "      <td>-0.005467</td>\n",
              "      <td>0.014898</td>\n",
              "      <td>0.012345</td>\n",
              "      <td>0.003308</td>\n",
              "      <td>-0.059348</td>\n",
              "      <td>NaN</td>\n",
              "      <td>0.237562</td>\n",
              "      <td>-0.003837</td>\n",
              "    </tr>\n",
              "    <tr>\n",
              "      <th>Humidity(%)</th>\n",
              "      <td>0.038514</td>\n",
              "      <td>0.025326</td>\n",
              "      <td>0.026993</td>\n",
              "      <td>0.024810</td>\n",
              "      <td>0.028203</td>\n",
              "      <td>0.050537</td>\n",
              "      <td>-0.011463</td>\n",
              "      <td>-0.258200</td>\n",
              "      <td>-0.258854</td>\n",
              "      <td>1.000000</td>\n",
              "      <td>...</td>\n",
              "      <td>0.002690</td>\n",
              "      <td>-0.014108</td>\n",
              "      <td>0.007023</td>\n",
              "      <td>-0.031304</td>\n",
              "      <td>-0.001907</td>\n",
              "      <td>0.004566</td>\n",
              "      <td>0.021805</td>\n",
              "      <td>NaN</td>\n",
              "      <td>-0.265631</td>\n",
              "      <td>0.093968</td>\n",
              "    </tr>\n",
              "    <tr>\n",
              "      <th>Pressure(in)</th>\n",
              "      <td>0.032305</td>\n",
              "      <td>0.054719</td>\n",
              "      <td>0.057606</td>\n",
              "      <td>0.055374</td>\n",
              "      <td>0.057853</td>\n",
              "      <td>-0.000455</td>\n",
              "      <td>0.017119</td>\n",
              "      <td>-0.299804</td>\n",
              "      <td>-0.301679</td>\n",
              "      <td>-0.181799</td>\n",
              "      <td>...</td>\n",
              "      <td>0.009551</td>\n",
              "      <td>0.006822</td>\n",
              "      <td>0.002997</td>\n",
              "      <td>-0.015120</td>\n",
              "      <td>-0.012363</td>\n",
              "      <td>0.001233</td>\n",
              "      <td>0.019999</td>\n",
              "      <td>NaN</td>\n",
              "      <td>-0.064459</td>\n",
              "      <td>-0.019576</td>\n",
              "    </tr>\n",
              "    <tr>\n",
              "      <th>Visibility(mi)</th>\n",
              "      <td>0.001296</td>\n",
              "      <td>0.024983</td>\n",
              "      <td>0.028072</td>\n",
              "      <td>0.023192</td>\n",
              "      <td>0.027863</td>\n",
              "      <td>-0.012070</td>\n",
              "      <td>-0.013270</td>\n",
              "      <td>0.117449</td>\n",
              "      <td>0.116139</td>\n",
              "      <td>-0.308432</td>\n",
              "      <td>...</td>\n",
              "      <td>0.001177</td>\n",
              "      <td>0.008703</td>\n",
              "      <td>0.001114</td>\n",
              "      <td>0.002496</td>\n",
              "      <td>-0.001208</td>\n",
              "      <td>-0.003882</td>\n",
              "      <td>0.006302</td>\n",
              "      <td>NaN</td>\n",
              "      <td>0.030053</td>\n",
              "      <td>-0.017924</td>\n",
              "    </tr>\n",
              "    <tr>\n",
              "      <th>Wind_Speed(mph)</th>\n",
              "      <td>0.006925</td>\n",
              "      <td>-0.003248</td>\n",
              "      <td>0.011537</td>\n",
              "      <td>-0.001891</td>\n",
              "      <td>0.009748</td>\n",
              "      <td>-0.015832</td>\n",
              "      <td>-0.001831</td>\n",
              "      <td>0.265888</td>\n",
              "      <td>0.267169</td>\n",
              "      <td>-0.409019</td>\n",
              "      <td>...</td>\n",
              "      <td>0.006180</td>\n",
              "      <td>0.008648</td>\n",
              "      <td>-0.000873</td>\n",
              "      <td>0.014922</td>\n",
              "      <td>0.000197</td>\n",
              "      <td>-0.001862</td>\n",
              "      <td>-0.014817</td>\n",
              "      <td>NaN</td>\n",
              "      <td>0.189808</td>\n",
              "      <td>-0.056928</td>\n",
              "    </tr>\n",
              "    <tr>\n",
              "      <th>Precipitation(in)</th>\n",
              "      <td>0.025249</td>\n",
              "      <td>0.007762</td>\n",
              "      <td>0.007571</td>\n",
              "      <td>0.008461</td>\n",
              "      <td>0.007240</td>\n",
              "      <td>0.012230</td>\n",
              "      <td>-0.016146</td>\n",
              "      <td>-0.039020</td>\n",
              "      <td>-0.037222</td>\n",
              "      <td>0.179703</td>\n",
              "      <td>...</td>\n",
              "      <td>0.000731</td>\n",
              "      <td>-0.002696</td>\n",
              "      <td>0.000992</td>\n",
              "      <td>-0.008166</td>\n",
              "      <td>0.003198</td>\n",
              "      <td>0.000762</td>\n",
              "      <td>-0.005728</td>\n",
              "      <td>NaN</td>\n",
              "      <td>0.029789</td>\n",
              "      <td>0.008314</td>\n",
              "    </tr>\n",
              "    <tr>\n",
              "      <th>Amenity</th>\n",
              "      <td>-0.018580</td>\n",
              "      <td>-0.027712</td>\n",
              "      <td>-0.015106</td>\n",
              "      <td>-0.027583</td>\n",
              "      <td>-0.014772</td>\n",
              "      <td>-0.036174</td>\n",
              "      <td>0.022118</td>\n",
              "      <td>0.001081</td>\n",
              "      <td>0.001235</td>\n",
              "      <td>-0.011384</td>\n",
              "      <td>...</td>\n",
              "      <td>-0.009768</td>\n",
              "      <td>-0.006273</td>\n",
              "      <td>-0.002453</td>\n",
              "      <td>0.022918</td>\n",
              "      <td>-0.009319</td>\n",
              "      <td>0.000239</td>\n",
              "      <td>0.045611</td>\n",
              "      <td>NaN</td>\n",
              "      <td>0.008159</td>\n",
              "      <td>0.004931</td>\n",
              "    </tr>\n",
              "    <tr>\n",
              "      <th>Bump</th>\n",
              "      <td>-0.001759</td>\n",
              "      <td>-0.008903</td>\n",
              "      <td>-0.011059</td>\n",
              "      <td>-0.008867</td>\n",
              "      <td>-0.010986</td>\n",
              "      <td>-0.003898</td>\n",
              "      <td>0.007277</td>\n",
              "      <td>-0.000135</td>\n",
              "      <td>-0.000099</td>\n",
              "      <td>0.003439</td>\n",
              "      <td>...</td>\n",
              "      <td>0.009943</td>\n",
              "      <td>-0.000884</td>\n",
              "      <td>-0.000167</td>\n",
              "      <td>0.001383</td>\n",
              "      <td>-0.000803</td>\n",
              "      <td>0.461186</td>\n",
              "      <td>-0.003678</td>\n",
              "      <td>NaN</td>\n",
              "      <td>-0.003426</td>\n",
              "      <td>0.001533</td>\n",
              "    </tr>\n",
              "    <tr>\n",
              "      <th>Crossing</th>\n",
              "      <td>-0.057098</td>\n",
              "      <td>-0.263653</td>\n",
              "      <td>-0.141102</td>\n",
              "      <td>-0.264462</td>\n",
              "      <td>-0.142498</td>\n",
              "      <td>-0.107671</td>\n",
              "      <td>0.081299</td>\n",
              "      <td>0.010193</td>\n",
              "      <td>0.006938</td>\n",
              "      <td>-0.031112</td>\n",
              "      <td>...</td>\n",
              "      <td>0.028466</td>\n",
              "      <td>0.088205</td>\n",
              "      <td>-0.002776</td>\n",
              "      <td>0.074687</td>\n",
              "      <td>0.099556</td>\n",
              "      <td>0.002493</td>\n",
              "      <td>0.302038</td>\n",
              "      <td>NaN</td>\n",
              "      <td>0.014716</td>\n",
              "      <td>0.004703</td>\n",
              "    </tr>\n",
              "    <tr>\n",
              "      <th>Give_Way</th>\n",
              "      <td>0.009372</td>\n",
              "      <td>-0.023036</td>\n",
              "      <td>-0.019341</td>\n",
              "      <td>-0.022776</td>\n",
              "      <td>-0.019425</td>\n",
              "      <td>-0.009535</td>\n",
              "      <td>-0.007609</td>\n",
              "      <td>-0.005764</td>\n",
              "      <td>-0.009240</td>\n",
              "      <td>0.002441</td>\n",
              "      <td>...</td>\n",
              "      <td>-0.003357</td>\n",
              "      <td>0.054871</td>\n",
              "      <td>0.013899</td>\n",
              "      <td>-0.015584</td>\n",
              "      <td>0.003010</td>\n",
              "      <td>-0.000781</td>\n",
              "      <td>0.084286</td>\n",
              "      <td>NaN</td>\n",
              "      <td>0.001662</td>\n",
              "      <td>0.004830</td>\n",
              "    </tr>\n",
              "    <tr>\n",
              "      <th>Junction</th>\n",
              "      <td>0.204610</td>\n",
              "      <td>0.121184</td>\n",
              "      <td>0.140582</td>\n",
              "      <td>0.122249</td>\n",
              "      <td>0.141174</td>\n",
              "      <td>0.111458</td>\n",
              "      <td>-0.043972</td>\n",
              "      <td>-0.010591</td>\n",
              "      <td>-0.011962</td>\n",
              "      <td>0.050007</td>\n",
              "      <td>...</td>\n",
              "      <td>0.015407</td>\n",
              "      <td>-0.017285</td>\n",
              "      <td>0.077357</td>\n",
              "      <td>-0.087385</td>\n",
              "      <td>-0.016321</td>\n",
              "      <td>-0.004538</td>\n",
              "      <td>-0.076834</td>\n",
              "      <td>NaN</td>\n",
              "      <td>-0.047216</td>\n",
              "      <td>0.011951</td>\n",
              "    </tr>\n",
              "    <tr>\n",
              "      <th>No_Exit</th>\n",
              "      <td>0.019772</td>\n",
              "      <td>0.003601</td>\n",
              "      <td>0.023036</td>\n",
              "      <td>0.003624</td>\n",
              "      <td>0.023255</td>\n",
              "      <td>-0.000554</td>\n",
              "      <td>0.012707</td>\n",
              "      <td>-0.003987</td>\n",
              "      <td>-0.006816</td>\n",
              "      <td>0.002690</td>\n",
              "      <td>...</td>\n",
              "      <td>1.000000</td>\n",
              "      <td>-0.005935</td>\n",
              "      <td>-0.001560</td>\n",
              "      <td>-0.010423</td>\n",
              "      <td>-0.001145</td>\n",
              "      <td>0.003098</td>\n",
              "      <td>0.028681</td>\n",
              "      <td>NaN</td>\n",
              "      <td>0.002996</td>\n",
              "      <td>-0.001136</td>\n",
              "    </tr>\n",
              "    <tr>\n",
              "      <th>Railway</th>\n",
              "      <td>-0.008904</td>\n",
              "      <td>0.046216</td>\n",
              "      <td>0.053209</td>\n",
              "      <td>0.046375</td>\n",
              "      <td>0.051812</td>\n",
              "      <td>-0.011965</td>\n",
              "      <td>-0.071947</td>\n",
              "      <td>-0.002779</td>\n",
              "      <td>-0.002911</td>\n",
              "      <td>-0.014108</td>\n",
              "      <td>...</td>\n",
              "      <td>-0.005935</td>\n",
              "      <td>1.000000</td>\n",
              "      <td>-0.001582</td>\n",
              "      <td>0.035616</td>\n",
              "      <td>-0.003838</td>\n",
              "      <td>-0.001917</td>\n",
              "      <td>0.050023</td>\n",
              "      <td>NaN</td>\n",
              "      <td>0.002960</td>\n",
              "      <td>-0.006076</td>\n",
              "    </tr>\n",
              "    <tr>\n",
              "      <th>Roundabout</th>\n",
              "      <td>-0.003148</td>\n",
              "      <td>0.006435</td>\n",
              "      <td>0.004171</td>\n",
              "      <td>0.006359</td>\n",
              "      <td>0.004051</td>\n",
              "      <td>-0.006498</td>\n",
              "      <td>-0.005811</td>\n",
              "      <td>-0.005346</td>\n",
              "      <td>-0.005467</td>\n",
              "      <td>0.007023</td>\n",
              "      <td>...</td>\n",
              "      <td>-0.001560</td>\n",
              "      <td>-0.001582</td>\n",
              "      <td>1.000000</td>\n",
              "      <td>-0.007243</td>\n",
              "      <td>-0.001437</td>\n",
              "      <td>-0.000363</td>\n",
              "      <td>-0.006580</td>\n",
              "      <td>NaN</td>\n",
              "      <td>0.003846</td>\n",
              "      <td>0.000691</td>\n",
              "    </tr>\n",
              "    <tr>\n",
              "      <th>Station</th>\n",
              "      <td>-0.070889</td>\n",
              "      <td>0.043750</td>\n",
              "      <td>0.049990</td>\n",
              "      <td>0.043718</td>\n",
              "      <td>0.049899</td>\n",
              "      <td>-0.105252</td>\n",
              "      <td>-0.091841</td>\n",
              "      <td>0.013713</td>\n",
              "      <td>0.014898</td>\n",
              "      <td>-0.031304</td>\n",
              "      <td>...</td>\n",
              "      <td>-0.010423</td>\n",
              "      <td>0.035616</td>\n",
              "      <td>-0.007243</td>\n",
              "      <td>1.000000</td>\n",
              "      <td>0.060481</td>\n",
              "      <td>0.025052</td>\n",
              "      <td>0.046800</td>\n",
              "      <td>NaN</td>\n",
              "      <td>0.012302</td>\n",
              "      <td>-0.015973</td>\n",
              "    </tr>\n",
              "    <tr>\n",
              "      <th>Stop</th>\n",
              "      <td>-0.014700</td>\n",
              "      <td>0.023011</td>\n",
              "      <td>0.043035</td>\n",
              "      <td>0.023002</td>\n",
              "      <td>0.044486</td>\n",
              "      <td>-0.019162</td>\n",
              "      <td>-0.050712</td>\n",
              "      <td>0.011377</td>\n",
              "      <td>0.012345</td>\n",
              "      <td>-0.001907</td>\n",
              "      <td>...</td>\n",
              "      <td>-0.001145</td>\n",
              "      <td>-0.003838</td>\n",
              "      <td>-0.001437</td>\n",
              "      <td>0.060481</td>\n",
              "      <td>1.000000</td>\n",
              "      <td>0.014492</td>\n",
              "      <td>-0.018943</td>\n",
              "      <td>NaN</td>\n",
              "      <td>-0.008818</td>\n",
              "      <td>0.012726</td>\n",
              "    </tr>\n",
              "    <tr>\n",
              "      <th>Traffic_Calming</th>\n",
              "      <td>-0.003815</td>\n",
              "      <td>0.001874</td>\n",
              "      <td>0.013076</td>\n",
              "      <td>0.001991</td>\n",
              "      <td>0.013161</td>\n",
              "      <td>-0.007865</td>\n",
              "      <td>-0.019931</td>\n",
              "      <td>0.003106</td>\n",
              "      <td>0.003308</td>\n",
              "      <td>0.004566</td>\n",
              "      <td>...</td>\n",
              "      <td>0.003098</td>\n",
              "      <td>-0.001917</td>\n",
              "      <td>-0.000363</td>\n",
              "      <td>0.025052</td>\n",
              "      <td>0.014492</td>\n",
              "      <td>1.000000</td>\n",
              "      <td>-0.007976</td>\n",
              "      <td>NaN</td>\n",
              "      <td>-0.000237</td>\n",
              "      <td>-0.001190</td>\n",
              "    </tr>\n",
              "    <tr>\n",
              "      <th>Traffic_Signal</th>\n",
              "      <td>-0.027311</td>\n",
              "      <td>-0.043204</td>\n",
              "      <td>-0.031283</td>\n",
              "      <td>-0.043687</td>\n",
              "      <td>-0.031765</td>\n",
              "      <td>-0.084376</td>\n",
              "      <td>-0.003539</td>\n",
              "      <td>-0.049264</td>\n",
              "      <td>-0.059348</td>\n",
              "      <td>0.021805</td>\n",
              "      <td>...</td>\n",
              "      <td>0.028681</td>\n",
              "      <td>0.050023</td>\n",
              "      <td>-0.006580</td>\n",
              "      <td>0.046800</td>\n",
              "      <td>-0.018943</td>\n",
              "      <td>-0.007976</td>\n",
              "      <td>1.000000</td>\n",
              "      <td>NaN</td>\n",
              "      <td>-0.000547</td>\n",
              "      <td>0.014917</td>\n",
              "    </tr>\n",
              "    <tr>\n",
              "      <th>Turning_Loop</th>\n",
              "      <td>NaN</td>\n",
              "      <td>NaN</td>\n",
              "      <td>NaN</td>\n",
              "      <td>NaN</td>\n",
              "      <td>NaN</td>\n",
              "      <td>NaN</td>\n",
              "      <td>NaN</td>\n",
              "      <td>NaN</td>\n",
              "      <td>NaN</td>\n",
              "      <td>NaN</td>\n",
              "      <td>...</td>\n",
              "      <td>NaN</td>\n",
              "      <td>NaN</td>\n",
              "      <td>NaN</td>\n",
              "      <td>NaN</td>\n",
              "      <td>NaN</td>\n",
              "      <td>NaN</td>\n",
              "      <td>NaN</td>\n",
              "      <td>NaN</td>\n",
              "      <td>NaN</td>\n",
              "      <td>NaN</td>\n",
              "    </tr>\n",
              "    <tr>\n",
              "      <th>hour</th>\n",
              "      <td>-0.066502</td>\n",
              "      <td>-0.028850</td>\n",
              "      <td>-0.030816</td>\n",
              "      <td>-0.026345</td>\n",
              "      <td>-0.033844</td>\n",
              "      <td>-0.041732</td>\n",
              "      <td>-0.005660</td>\n",
              "      <td>0.237467</td>\n",
              "      <td>0.237562</td>\n",
              "      <td>-0.265631</td>\n",
              "      <td>...</td>\n",
              "      <td>0.002996</td>\n",
              "      <td>0.002960</td>\n",
              "      <td>0.003846</td>\n",
              "      <td>0.012302</td>\n",
              "      <td>-0.008818</td>\n",
              "      <td>-0.000237</td>\n",
              "      <td>-0.000547</td>\n",
              "      <td>NaN</td>\n",
              "      <td>1.000000</td>\n",
              "      <td>-0.031644</td>\n",
              "    </tr>\n",
              "    <tr>\n",
              "      <th>week</th>\n",
              "      <td>0.015518</td>\n",
              "      <td>-0.000334</td>\n",
              "      <td>0.009109</td>\n",
              "      <td>-0.000093</td>\n",
              "      <td>0.009731</td>\n",
              "      <td>0.012293</td>\n",
              "      <td>0.035932</td>\n",
              "      <td>-0.009146</td>\n",
              "      <td>-0.003837</td>\n",
              "      <td>0.093968</td>\n",
              "      <td>...</td>\n",
              "      <td>-0.001136</td>\n",
              "      <td>-0.006076</td>\n",
              "      <td>0.000691</td>\n",
              "      <td>-0.015973</td>\n",
              "      <td>0.012726</td>\n",
              "      <td>-0.001190</td>\n",
              "      <td>0.014917</td>\n",
              "      <td>NaN</td>\n",
              "      <td>-0.031644</td>\n",
              "      <td>1.000000</td>\n",
              "    </tr>\n",
              "  </tbody>\n",
              "</table>\n",
              "<p>29 rows × 29 columns</p>\n",
              "</div>\n",
              "      <button class=\"colab-df-convert\" onclick=\"convertToInteractive('df-e95cdb83-1688-425c-ac84-f9d5523fad85')\"\n",
              "              title=\"Convert this dataframe to an interactive table.\"\n",
              "              style=\"display:none;\">\n",
              "        \n",
              "  <svg xmlns=\"http://www.w3.org/2000/svg\" height=\"24px\"viewBox=\"0 0 24 24\"\n",
              "       width=\"24px\">\n",
              "    <path d=\"M0 0h24v24H0V0z\" fill=\"none\"/>\n",
              "    <path d=\"M18.56 5.44l.94 2.06.94-2.06 2.06-.94-2.06-.94-.94-2.06-.94 2.06-2.06.94zm-11 1L8.5 8.5l.94-2.06 2.06-.94-2.06-.94L8.5 2.5l-.94 2.06-2.06.94zm10 10l.94 2.06.94-2.06 2.06-.94-2.06-.94-.94-2.06-.94 2.06-2.06.94z\"/><path d=\"M17.41 7.96l-1.37-1.37c-.4-.4-.92-.59-1.43-.59-.52 0-1.04.2-1.43.59L10.3 9.45l-7.72 7.72c-.78.78-.78 2.05 0 2.83L4 21.41c.39.39.9.59 1.41.59.51 0 1.02-.2 1.41-.59l7.78-7.78 2.81-2.81c.8-.78.8-2.07 0-2.86zM5.41 20L4 18.59l7.72-7.72 1.47 1.35L5.41 20z\"/>\n",
              "  </svg>\n",
              "      </button>\n",
              "      \n",
              "  <style>\n",
              "    .colab-df-container {\n",
              "      display:flex;\n",
              "      flex-wrap:wrap;\n",
              "      gap: 12px;\n",
              "    }\n",
              "\n",
              "    .colab-df-convert {\n",
              "      background-color: #E8F0FE;\n",
              "      border: none;\n",
              "      border-radius: 50%;\n",
              "      cursor: pointer;\n",
              "      display: none;\n",
              "      fill: #1967D2;\n",
              "      height: 32px;\n",
              "      padding: 0 0 0 0;\n",
              "      width: 32px;\n",
              "    }\n",
              "\n",
              "    .colab-df-convert:hover {\n",
              "      background-color: #E2EBFA;\n",
              "      box-shadow: 0px 1px 2px rgba(60, 64, 67, 0.3), 0px 1px 3px 1px rgba(60, 64, 67, 0.15);\n",
              "      fill: #174EA6;\n",
              "    }\n",
              "\n",
              "    [theme=dark] .colab-df-convert {\n",
              "      background-color: #3B4455;\n",
              "      fill: #D2E3FC;\n",
              "    }\n",
              "\n",
              "    [theme=dark] .colab-df-convert:hover {\n",
              "      background-color: #434B5C;\n",
              "      box-shadow: 0px 1px 3px 1px rgba(0, 0, 0, 0.15);\n",
              "      filter: drop-shadow(0px 1px 2px rgba(0, 0, 0, 0.3));\n",
              "      fill: #FFFFFF;\n",
              "    }\n",
              "  </style>\n",
              "\n",
              "      <script>\n",
              "        const buttonEl =\n",
              "          document.querySelector('#df-e95cdb83-1688-425c-ac84-f9d5523fad85 button.colab-df-convert');\n",
              "        buttonEl.style.display =\n",
              "          google.colab.kernel.accessAllowed ? 'block' : 'none';\n",
              "\n",
              "        async function convertToInteractive(key) {\n",
              "          const element = document.querySelector('#df-e95cdb83-1688-425c-ac84-f9d5523fad85');\n",
              "          const dataTable =\n",
              "            await google.colab.kernel.invokeFunction('convertToInteractive',\n",
              "                                                     [key], {});\n",
              "          if (!dataTable) return;\n",
              "\n",
              "          const docLinkHtml = 'Like what you see? Visit the ' +\n",
              "            '<a target=\"_blank\" href=https://colab.research.google.com/notebooks/data_table.ipynb>data table notebook</a>'\n",
              "            + ' to learn more about interactive tables.';\n",
              "          element.innerHTML = '';\n",
              "          dataTable['output_type'] = 'display_data';\n",
              "          await google.colab.output.renderOutput(dataTable, element);\n",
              "          const docLink = document.createElement('div');\n",
              "          docLink.innerHTML = docLinkHtml;\n",
              "          element.appendChild(docLink);\n",
              "        }\n",
              "      </script>\n",
              "    </div>\n",
              "  </div>\n",
              "  "
            ]
          },
          "metadata": {},
          "execution_count": 42
        }
      ]
    },
    {
      "cell_type": "code",
      "source": [
        "sns.kdeplot(miami_florida['Temperature(F)'])"
      ],
      "metadata": {
        "id": "led-QzaEZfsu",
        "colab": {
          "base_uri": "https://localhost:8080/",
          "height": 298
        },
        "outputId": "80629565-87b5-4f2b-b249-428355e8463c"
      },
      "execution_count": 43,
      "outputs": [
        {
          "output_type": "execute_result",
          "data": {
            "text/plain": [
              "<matplotlib.axes._subplots.AxesSubplot at 0x7fb9cec822d0>"
            ]
          },
          "metadata": {},
          "execution_count": 43
        },
        {
          "output_type": "display_data",
          "data": {
            "text/plain": [
              "<Figure size 432x288 with 1 Axes>"
            ],
            "image/png": "[encoded data removed]"
          },
          "metadata": {
            "needs_background": "light"
          }
        }
      ]
    },
    {
      "cell_type": "code",
      "source": [
        "max(miami_florida['Temperature(F)'])"
      ],
      "metadata": {
        "id": "BwW3WETUZfp5",
        "colab": {
          "base_uri": "https://localhost:8080/"
        },
        "outputId": "b1273190-d1d6-407a-f215-dd682ddba94b"
      },
      "execution_count": 44,
      "outputs": [
        {
          "output_type": "execute_result",
          "data": {
            "text/plain": [
              "102.0"
            ]
          },
          "metadata": {},
          "execution_count": 44
        }
      ]
    },
    {
      "cell_type": "code",
      "source": [
        "min(miami_florida['Temperature(F)'])"
      ],
      "metadata": {
        "id": "Jak3W1omZfnB",
        "colab": {
          "base_uri": "https://localhost:8080/"
        },
        "outputId": "21d1b743-b8e9-4eda-9134-d62e6b57d5ba"
      },
      "execution_count": 45,
      "outputs": [
        {
          "output_type": "execute_result",
          "data": {
            "text/plain": [
              "-58.0"
            ]
          },
          "metadata": {},
          "execution_count": 45
        }
      ]
    },
    {
      "cell_type": "code",
      "source": [
        "sns.boxplot(miami_florida['Temperature(F)'])\n",
        "plt.show()"
      ],
      "metadata": {
        "id": "VNxWjhEOZfkt",
        "colab": {
          "base_uri": "https://localhost:8080/",
          "height": 334
        },
        "outputId": "53a5db39-8659-41bb-f062-443ab5a73a11"
      },
      "execution_count": 46,
      "outputs": [
        {
          "output_type": "stream",
          "name": "stderr",
          "text": [
            "/usr/local/lib/python3.7/dist-packages/seaborn/_decorators.py:43: FutureWarning: Pass the following variable as a keyword arg: x. From version 0.12, the only valid positional argument will be `data`, and passing other arguments without an explicit keyword will result in an error or misinterpretation.\n",
            "  FutureWarning\n"
          ]
        },
        {
          "output_type": "display_data",
          "data": {
            "text/plain": [
              "<Figure size 432x288 with 1 Axes>"
            ],
            "image/png": "[encoded data removed]"
          },
          "metadata": {
            "needs_background": "light"
          }
        }
      ]
    },
    {
      "cell_type": "code",
      "source": [
        "def remove_outlier_IQR(df):\n",
        "    Q1=df['Temperature(F)'].quantile(0.25)\n",
        "    Q3=df['Temperature(F)'].quantile(0.75)\n",
        "    IQR=Q3-Q1\n",
        "    df_final=df[~((df['Temperature(F)']<(Q1-1.5*IQR)) | (df['Temperature(F)']>(Q3+1.5*IQR)))]\n",
        "    return df_final"
      ],
      "metadata": {
        "id": "2Ot3z3HiZfh0"
      },
      "execution_count": 47,
      "outputs": []
    },
    {
      "cell_type": "code",
      "source": [
        "miami_florida_outlier_rem=remove_outlier_IQR(miami_florida)\n",
        "miami_florida_outlier_rem=pd.DataFrame(miami_florida_outlier_rem)"
      ],
      "metadata": {
        "id": "_8TsmWc-ZfdA"
      },
      "execution_count": 48,
      "outputs": []
    },
    {
      "cell_type": "code",
      "source": [
        "miami_florida_outlier_rem['Temperature(C)']=(miami_florida_outlier_rem['Temperature(F)'] - 32) * (5/9)"
      ],
      "metadata": {
        "id": "Xju-hnkHZtxy"
      },
      "execution_count": 49,
      "outputs": []
    },
    {
      "cell_type": "code",
      "source": [
        "miami_florida_outlier_rem"
      ],
      "metadata": {
        "colab": {
          "base_uri": "https://localhost:8080/",
          "height": 991
        },
        "id": "uqFYB-GZbfMW",
        "outputId": "48b1af73-a6ea-4701-f462-9dff41389a20"
      },
      "execution_count": 50,
      "outputs": [
        {
          "output_type": "execute_result",
          "data": {
            "text/plain": [
              "                ID  Severity           Start_Time             End_Time  \\\n",
              "31596      A-31597         2  2016-11-30 16:35:52  2016-11-30 22:35:52   \n",
              "31660      A-31661         2  2016-11-30 18:35:52  2016-12-01 00:35:52   \n",
              "31734      A-31735         2  2016-12-01 05:51:51  2016-12-01 11:51:51   \n",
              "31735      A-31736         3  2016-12-01 06:03:23  2016-12-01 12:03:23   \n",
              "31805      A-31806         2  2016-12-01 08:21:46  2016-12-01 14:21:46   \n",
              "...            ...       ...                  ...                  ...   \n",
              "2844577  A-2844578         2  2019-08-22 17:10:33  2019-08-22 17:38:17   \n",
              "2844578  A-2844579         4  2019-08-22 17:12:48  2019-08-22 17:42:07   \n",
              "2844996  A-2844997         4  2019-08-23 02:01:46  2019-08-23 02:30:39   \n",
              "2845009  A-2845010         2  2019-08-23 13:08:31  2019-08-23 13:37:40   \n",
              "2845025  A-2845026         4  2019-08-23 19:14:05  2019-08-23 19:43:39   \n",
              "\n",
              "         Start_Lat  Start_Lng    End_Lat    End_Lng  Distance(mi)  \\\n",
              "31596    25.786010 -80.258090  25.783360 -80.269110         0.710   \n",
              "31660    25.662140 -80.388600  25.652920 -80.387120         0.644   \n",
              "31734    25.970530 -80.165760  25.959950 -80.168700         0.753   \n",
              "31735    25.784470 -80.293460  25.784880 -80.284440         0.562   \n",
              "31805    25.913100 -80.210240  25.907800 -80.210230         0.366   \n",
              "...            ...        ...        ...        ...           ...   \n",
              "2844577  25.707913 -80.285176  25.707640 -80.285510         0.028   \n",
              "2844578  25.909390 -80.209870  25.912360 -80.209700         0.205   \n",
              "2844996  25.927371 -80.212694  25.927371 -80.212694         0.000   \n",
              "2845009  25.812250 -80.237460  25.812460 -80.243590         0.382   \n",
              "2845025  25.935950 -80.199180  25.932061 -80.203819         0.394   \n",
              "\n",
              "                                               Description  ...  \\\n",
              "31596           At SR-953/42nd Ave/Le Jeune Rd - Accident.  ...   \n",
              "31660                      At 120th St/Exit 19 - Accident.  ...   \n",
              "31734        At Ives Dairy Rd/203rd St/Exit 16 - Accident.  ...   \n",
              "31735                         At SR-959/Red Rd - Accident.  ...   \n",
              "31805                      At 151st St/Exit 11 - Accident.  ...   \n",
              "...                                                    ...  ...   \n",
              "2844577              At SR-959/Red Rd/57th Ave - Accident.  ...   \n",
              "2844578  Ramp closed to 151st St/Exit 11 - Road closed ...  ...   \n",
              "2844996  Ramp to SR-826/Florida's Tpke/R Reagan Tpke - ...  ...   \n",
              "2845009  At SR-9/27th Ave/Unity Blvd - Accident. Right ...  ...   \n",
              "2845025  Closed at US-441/Florida's Tpke/Exit 12 - Road...  ...   \n",
              "\n",
              "         Traffic_Calming Traffic_Signal Turning_Loop Sunrise_Sunset  \\\n",
              "31596              False          False        False            Day   \n",
              "31660              False          False        False          Night   \n",
              "31734              False          False        False          Night   \n",
              "31735              False          False        False          Night   \n",
              "31805              False          False        False            Day   \n",
              "...                  ...            ...          ...            ...   \n",
              "2844577            False           True        False            Day   \n",
              "2844578            False          False        False            Day   \n",
              "2844996            False          False        False          Night   \n",
              "2845009            False          False        False            Day   \n",
              "2845025            False          False        False            Day   \n",
              "\n",
              "        Civil_Twilight Nautical_Twilight Astronomical_Twilight hour week  \\\n",
              "31596              Day               Day                   Day   16    2   \n",
              "31660            Night             Night                   Day   18    2   \n",
              "31734            Night             Night                   Day    5    3   \n",
              "31735            Night               Day                   Day    6    3   \n",
              "31805              Day               Day                   Day    8    3   \n",
              "...                ...               ...                   ...  ...  ...   \n",
              "2844577            Day               Day                   Day   17    3   \n",
              "2844578            Day               Day                   Day   17    3   \n",
              "2844996          Night             Night                 Night    2    4   \n",
              "2845009            Day               Day                   Day   13    4   \n",
              "2845025            Day               Day                   Day   19    4   \n",
              "\n",
              "        Temperature(C)  \n",
              "31596        25.611111  \n",
              "31660        25.611111  \n",
              "31734        23.277778  \n",
              "31735        23.888889  \n",
              "31805        25.000000  \n",
              "...                ...  \n",
              "2844577      30.555556  \n",
              "2844578      28.333333  \n",
              "2844996      27.222222  \n",
              "2845009      30.555556  \n",
              "2845025      29.444444  \n",
              "\n",
              "[105324 rows x 50 columns]"
            ],
            "text/html": [
              "\n",
              "  <div id=\"df-c9e4349d-4d3b-4cd3-a2f0-8784da58106a\">\n",
              "    <div class=\"colab-df-container\">\n",
              "      <div>\n",
              "<style scoped>\n",
              "    .dataframe tbody tr th:only-of-type {\n",
              "        vertical-align: middle;\n",
              "    }\n",
              "\n",
              "    .dataframe tbody tr th {\n",
              "        vertical-align: top;\n",
              "    }\n",
              "\n",
              "    .dataframe thead th {\n",
              "        text-align: right;\n",
              "    }\n",
              "</style>\n",
              "<table border=\"1\" class=\"dataframe\">\n",
              "  <thead>\n",
              "    <tr style=\"text-align: right;\">\n",
              "      <th></th>\n",
              "      <th>ID</th>\n",
              "      <th>Severity</th>\n",
              "      <th>Start_Time</th>\n",
              "      <th>End_Time</th>\n",
              "      <th>Start_Lat</th>\n",
              "      <th>Start_Lng</th>\n",
              "      <th>End_Lat</th>\n",
              "      <th>End_Lng</th>\n",
              "      <th>Distance(mi)</th>\n",
              "      <th>Description</th>\n",
              "      <th>...</th>\n",
              "      <th>Traffic_Calming</th>\n",
              "      <th>Traffic_Signal</th>\n",
              "      <th>Turning_Loop</th>\n",
              "      <th>Sunrise_Sunset</th>\n",
              "      <th>Civil_Twilight</th>\n",
              "      <th>Nautical_Twilight</th>\n",
              "      <th>Astronomical_Twilight</th>\n",
              "      <th>hour</th>\n",
              "      <th>week</th>\n",
              "      <th>Temperature(C)</th>\n",
              "    </tr>\n",
              "  </thead>\n",
              "  <tbody>\n",
              "    <tr>\n",
              "      <th>31596</th>\n",
              "      <td>A-31597</td>\n",
              "      <td>2</td>\n",
              "      <td>2016-11-30 16:35:52</td>\n",
              "      <td>2016-11-30 22:35:52</td>\n",
              "      <td>25.786010</td>\n",
              "      <td>-80.258090</td>\n",
              "      <td>25.783360</td>\n",
              "      <td>-80.269110</td>\n",
              "      <td>0.710</td>\n",
              "      <td>At SR-953/42nd Ave/Le Jeune Rd - Accident.</td>\n",
              "      <td>...</td>\n",
              "      <td>False</td>\n",
              "      <td>False</td>\n",
              "      <td>False</td>\n",
              "      <td>Day</td>\n",
              "      <td>Day</td>\n",
              "      <td>Day</td>\n",
              "      <td>Day</td>\n",
              "      <td>16</td>\n",
              "      <td>2</td>\n",
              "      <td>25.611111</td>\n",
              "    </tr>\n",
              "    <tr>\n",
              "      <th>31660</th>\n",
              "      <td>A-31661</td>\n",
              "      <td>2</td>\n",
              "      <td>2016-11-30 18:35:52</td>\n",
              "      <td>2016-12-01 00:35:52</td>\n",
              "      <td>25.662140</td>\n",
              "      <td>-80.388600</td>\n",
              "      <td>25.652920</td>\n",
              "      <td>-80.387120</td>\n",
              "      <td>0.644</td>\n",
              "      <td>At 120th St/Exit 19 - Accident.</td>\n",
              "      <td>...</td>\n",
              "      <td>False</td>\n",
              "      <td>False</td>\n",
              "      <td>False</td>\n",
              "      <td>Night</td>\n",
              "      <td>Night</td>\n",
              "      <td>Night</td>\n",
              "      <td>Day</td>\n",
              "      <td>18</td>\n",
              "      <td>2</td>\n",
              "      <td>25.611111</td>\n",
              "    </tr>\n",
              "    <tr>\n",
              "      <th>31734</th>\n",
              "      <td>A-31735</td>\n",
              "      <td>2</td>\n",
              "      <td>2016-12-01 05:51:51</td>\n",
              "      <td>2016-12-01 11:51:51</td>\n",
              "      <td>25.970530</td>\n",
              "      <td>-80.165760</td>\n",
              "      <td>25.959950</td>\n",
              "      <td>-80.168700</td>\n",
              "      <td>0.753</td>\n",
              "      <td>At Ives Dairy Rd/203rd St/Exit 16 - Accident.</td>\n",
              "      <td>...</td>\n",
              "      <td>False</td>\n",
              "      <td>False</td>\n",
              "      <td>False</td>\n",
              "      <td>Night</td>\n",
              "      <td>Night</td>\n",
              "      <td>Night</td>\n",
              "      <td>Day</td>\n",
              "      <td>5</td>\n",
              "      <td>3</td>\n",
              "      <td>23.277778</td>\n",
              "    </tr>\n",
              "    <tr>\n",
              "      <th>31735</th>\n",
              "      <td>A-31736</td>\n",
              "      <td>3</td>\n",
              "      <td>2016-12-01 06:03:23</td>\n",
              "      <td>2016-12-01 12:03:23</td>\n",
              "      <td>25.784470</td>\n",
              "      <td>-80.293460</td>\n",
              "      <td>25.784880</td>\n",
              "      <td>-80.284440</td>\n",
              "      <td>0.562</td>\n",
              "      <td>At SR-959/Red Rd - Accident.</td>\n",
              "      <td>...</td>\n",
              "      <td>False</td>\n",
              "      <td>False</td>\n",
              "      <td>False</td>\n",
              "      <td>Night</td>\n",
              "      <td>Night</td>\n",
              "      <td>Day</td>\n",
              "      <td>Day</td>\n",
              "      <td>6</td>\n",
              "      <td>3</td>\n",
              "      <td>23.888889</td>\n",
              "    </tr>\n",
              "    <tr>\n",
              "      <th>31805</th>\n",
              "      <td>A-31806</td>\n",
              "      <td>2</td>\n",
              "      <td>2016-12-01 08:21:46</td>\n",
              "      <td>2016-12-01 14:21:46</td>\n",
              "      <td>25.913100</td>\n",
              "      <td>-80.210240</td>\n",
              "      <td>25.907800</td>\n",
              "      <td>-80.210230</td>\n",
              "      <td>0.366</td>\n",
              "      <td>At 151st St/Exit 11 - Accident.</td>\n",
              "      <td>...</td>\n",
              "      <td>False</td>\n",
              "      <td>False</td>\n",
              "      <td>False</td>\n",
              "      <td>Day</td>\n",
              "      <td>Day</td>\n",
              "      <td>Day</td>\n",
              "      <td>Day</td>\n",
              "      <td>8</td>\n",
              "      <td>3</td>\n",
              "      <td>25.000000</td>\n",
              "    </tr>\n",
              "    <tr>\n",
              "      <th>...</th>\n",
              "      <td>...</td>\n",
              "      <td>...</td>\n",
              "      <td>...</td>\n",
              "      <td>...</td>\n",
              "      <td>...</td>\n",
              "      <td>...</td>\n",
              "      <td>...</td>\n",
              "      <td>...</td>\n",
              "      <td>...</td>\n",
              "      <td>...</td>\n",
              "      <td>...</td>\n",
              "      <td>...</td>\n",
              "      <td>...</td>\n",
              "      <td>...</td>\n",
              "      <td>...</td>\n",
              "      <td>...</td>\n",
              "      <td>...</td>\n",
              "      <td>...</td>\n",
              "      <td>...</td>\n",
              "      <td>...</td>\n",
              "      <td>...</td>\n",
              "    </tr>\n",
              "    <tr>\n",
              "      <th>2844577</th>\n",
              "      <td>A-2844578</td>\n",
              "      <td>2</td>\n",
              "      <td>2019-08-22 17:10:33</td>\n",
              "      <td>2019-08-22 17:38:17</td>\n",
              "      <td>25.707913</td>\n",
              "      <td>-80.285176</td>\n",
              "      <td>25.707640</td>\n",
              "      <td>-80.285510</td>\n",
              "      <td>0.028</td>\n",
              "      <td>At SR-959/Red Rd/57th Ave - Accident.</td>\n",
              "      <td>...</td>\n",
              "      <td>False</td>\n",
              "      <td>True</td>\n",
              "      <td>False</td>\n",
              "      <td>Day</td>\n",
              "      <td>Day</td>\n",
              "      <td>Day</td>\n",
              "      <td>Day</td>\n",
              "      <td>17</td>\n",
              "      <td>3</td>\n",
              "      <td>30.555556</td>\n",
              "    </tr>\n",
              "    <tr>\n",
              "      <th>2844578</th>\n",
              "      <td>A-2844579</td>\n",
              "      <td>4</td>\n",
              "      <td>2019-08-22 17:12:48</td>\n",
              "      <td>2019-08-22 17:42:07</td>\n",
              "      <td>25.909390</td>\n",
              "      <td>-80.209870</td>\n",
              "      <td>25.912360</td>\n",
              "      <td>-80.209700</td>\n",
              "      <td>0.205</td>\n",
              "      <td>Ramp closed to 151st St/Exit 11 - Road closed ...</td>\n",
              "      <td>...</td>\n",
              "      <td>False</td>\n",
              "      <td>False</td>\n",
              "      <td>False</td>\n",
              "      <td>Day</td>\n",
              "      <td>Day</td>\n",
              "      <td>Day</td>\n",
              "      <td>Day</td>\n",
              "      <td>17</td>\n",
              "      <td>3</td>\n",
              "      <td>28.333333</td>\n",
              "    </tr>\n",
              "    <tr>\n",
              "      <th>2844996</th>\n",
              "      <td>A-2844997</td>\n",
              "      <td>4</td>\n",
              "      <td>2019-08-23 02:01:46</td>\n",
              "      <td>2019-08-23 02:30:39</td>\n",
              "      <td>25.927371</td>\n",
              "      <td>-80.212694</td>\n",
              "      <td>25.927371</td>\n",
              "      <td>-80.212694</td>\n",
              "      <td>0.000</td>\n",
              "      <td>Ramp to SR-826/Florida's Tpke/R Reagan Tpke - ...</td>\n",
              "      <td>...</td>\n",
              "      <td>False</td>\n",
              "      <td>False</td>\n",
              "      <td>False</td>\n",
              "      <td>Night</td>\n",
              "      <td>Night</td>\n",
              "      <td>Night</td>\n",
              "      <td>Night</td>\n",
              "      <td>2</td>\n",
              "      <td>4</td>\n",
              "      <td>27.222222</td>\n",
              "    </tr>\n",
              "    <tr>\n",
              "      <th>2845009</th>\n",
              "      <td>A-2845010</td>\n",
              "      <td>2</td>\n",
              "      <td>2019-08-23 13:08:31</td>\n",
              "      <td>2019-08-23 13:37:40</td>\n",
              "      <td>25.812250</td>\n",
              "      <td>-80.237460</td>\n",
              "      <td>25.812460</td>\n",
              "      <td>-80.243590</td>\n",
              "      <td>0.382</td>\n",
              "      <td>At SR-9/27th Ave/Unity Blvd - Accident. Right ...</td>\n",
              "      <td>...</td>\n",
              "      <td>False</td>\n",
              "      <td>False</td>\n",
              "      <td>False</td>\n",
              "      <td>Day</td>\n",
              "      <td>Day</td>\n",
              "      <td>Day</td>\n",
              "      <td>Day</td>\n",
              "      <td>13</td>\n",
              "      <td>4</td>\n",
              "      <td>30.555556</td>\n",
              "    </tr>\n",
              "    <tr>\n",
              "      <th>2845025</th>\n",
              "      <td>A-2845026</td>\n",
              "      <td>4</td>\n",
              "      <td>2019-08-23 19:14:05</td>\n",
              "      <td>2019-08-23 19:43:39</td>\n",
              "      <td>25.935950</td>\n",
              "      <td>-80.199180</td>\n",
              "      <td>25.932061</td>\n",
              "      <td>-80.203819</td>\n",
              "      <td>0.394</td>\n",
              "      <td>Closed at US-441/Florida's Tpke/Exit 12 - Road...</td>\n",
              "      <td>...</td>\n",
              "      <td>False</td>\n",
              "      <td>False</td>\n",
              "      <td>False</td>\n",
              "      <td>Day</td>\n",
              "      <td>Day</td>\n",
              "      <td>Day</td>\n",
              "      <td>Day</td>\n",
              "      <td>19</td>\n",
              "      <td>4</td>\n",
              "      <td>29.444444</td>\n",
              "    </tr>\n",
              "  </tbody>\n",
              "</table>\n",
              "<p>105324 rows × 50 columns</p>\n",
              "</div>\n",
              "      <button class=\"colab-df-convert\" onclick=\"convertToInteractive('df-c9e4349d-4d3b-4cd3-a2f0-8784da58106a')\"\n",
              "              title=\"Convert this dataframe to an interactive table.\"\n",
              "              style=\"display:none;\">\n",
              "        \n",
              "  <svg xmlns=\"http://www.w3.org/2000/svg\" height=\"24px\"viewBox=\"0 0 24 24\"\n",
              "       width=\"24px\">\n",
              "    <path d=\"M0 0h24v24H0V0z\" fill=\"none\"/>\n",
              "    <path d=\"M18.56 5.44l.94 2.06.94-2.06 2.06-.94-2.06-.94-.94-2.06-.94 2.06-2.06.94zm-11 1L8.5 8.5l.94-2.06 2.06-.94-2.06-.94L8.5 2.5l-.94 2.06-2.06.94zm10 10l.94 2.06.94-2.06 2.06-.94-2.06-.94-.94-2.06-.94 2.06-2.06.94z\"/><path d=\"M17.41 7.96l-1.37-1.37c-.4-.4-.92-.59-1.43-.59-.52 0-1.04.2-1.43.59L10.3 9.45l-7.72 7.72c-.78.78-.78 2.05 0 2.83L4 21.41c.39.39.9.59 1.41.59.51 0 1.02-.2 1.41-.59l7.78-7.78 2.81-2.81c.8-.78.8-2.07 0-2.86zM5.41 20L4 18.59l7.72-7.72 1.47 1.35L5.41 20z\"/>\n",
              "  </svg>\n",
              "      </button>\n",
              "      \n",
              "  <style>\n",
              "    .colab-df-container {\n",
              "      display:flex;\n",
              "      flex-wrap:wrap;\n",
              "      gap: 12px;\n",
              "    }\n",
              "\n",
              "    .colab-df-convert {\n",
              "      background-color: #E8F0FE;\n",
              "      border: none;\n",
              "      border-radius: 50%;\n",
              "      cursor: pointer;\n",
              "      display: none;\n",
              "      fill: #1967D2;\n",
              "      height: 32px;\n",
              "      padding: 0 0 0 0;\n",
              "      width: 32px;\n",
              "    }\n",
              "\n",
              "    .colab-df-convert:hover {\n",
              "      background-color: #E2EBFA;\n",
              "      box-shadow: 0px 1px 2px rgba(60, 64, 67, 0.3), 0px 1px 3px 1px rgba(60, 64, 67, 0.15);\n",
              "      fill: #174EA6;\n",
              "    }\n",
              "\n",
              "    [theme=dark] .colab-df-convert {\n",
              "      background-color: #3B4455;\n",
              "      fill: #D2E3FC;\n",
              "    }\n",
              "\n",
              "    [theme=dark] .colab-df-convert:hover {\n",
              "      background-color: #434B5C;\n",
              "      box-shadow: 0px 1px 3px 1px rgba(0, 0, 0, 0.15);\n",
              "      filter: drop-shadow(0px 1px 2px rgba(0, 0, 0, 0.3));\n",
              "      fill: #FFFFFF;\n",
              "    }\n",
              "  </style>\n",
              "\n",
              "      <script>\n",
              "        const buttonEl =\n",
              "          document.querySelector('#df-c9e4349d-4d3b-4cd3-a2f0-8784da58106a button.colab-df-convert');\n",
              "        buttonEl.style.display =\n",
              "          google.colab.kernel.accessAllowed ? 'block' : 'none';\n",
              "\n",
              "        async function convertToInteractive(key) {\n",
              "          const element = document.querySelector('#df-c9e4349d-4d3b-4cd3-a2f0-8784da58106a');\n",
              "          const dataTable =\n",
              "            await google.colab.kernel.invokeFunction('convertToInteractive',\n",
              "                                                     [key], {});\n",
              "          if (!dataTable) return;\n",
              "\n",
              "          const docLinkHtml = 'Like what you see? Visit the ' +\n",
              "            '<a target=\"_blank\" href=https://colab.research.google.com/notebooks/data_table.ipynb>data table notebook</a>'\n",
              "            + ' to learn more about interactive tables.';\n",
              "          element.innerHTML = '';\n",
              "          dataTable['output_type'] = 'display_data';\n",
              "          await google.colab.output.renderOutput(dataTable, element);\n",
              "          const docLink = document.createElement('div');\n",
              "          docLink.innerHTML = docLinkHtml;\n",
              "          element.appendChild(docLink);\n",
              "        }\n",
              "      </script>\n",
              "    </div>\n",
              "  </div>\n",
              "  "
            ]
          },
          "metadata": {},
          "execution_count": 50
        }
      ]
    },
    {
      "cell_type": "code",
      "source": [
        "sns.kdeplot(miami_florida_outlier_rem['Temperature(C)'])\n",
        "plt.title(\"Temp at florida\")\n",
        "plt.show()"
      ],
      "metadata": {
        "id": "yH0jTAgcZfaO",
        "colab": {
          "base_uri": "https://localhost:8080/",
          "height": 295
        },
        "outputId": "09c1d56e-73cf-4af4-d69f-fea7366b9520"
      },
      "execution_count": 80,
      "outputs": [
        {
          "output_type": "display_data",
          "data": {
            "text/plain": [
              "<Figure size 432x288 with 1 Axes>"
            ],
            "image/png": "[encoded data removed]"
          },
          "metadata": {
            "needs_background": "light"
          }
        }
      ]
    },
    {
      "cell_type": "code",
      "source": [
        "#let's see what is the temperature during peak hours and peek days\n",
        "temp_peak_hr = miami_florida_outlier_rem[miami_florida_outlier_rem['hour']==13]"
      ],
      "metadata": {
        "id": "SxYasJhHZfXG"
      },
      "execution_count": 52,
      "outputs": []
    },
    {
      "cell_type": "code",
      "source": [
        "sns.kdeplot(temp_peak_hr['Temperature(C)'], label=\"temp at peak hr\")\n",
        "sns.kdeplot(miami_florida_outlier_rem['Temperature(C)'], label=\"norm temp\")\n",
        "plt.legend()\n",
        "plt.title(\"Temp at peak hour at florida\")"
      ],
      "metadata": {
        "colab": {
          "base_uri": "https://localhost:8080/",
          "height": 312
        },
        "id": "rQ_sxxzlfRQX",
        "outputId": "23d46a70-9de0-4fee-8ab3-ed46c7adca20"
      },
      "execution_count": 81,
      "outputs": [
        {
          "output_type": "execute_result",
          "data": {
            "text/plain": [
              "Text(0.5, 1.0, 'Temp at peak hour at florida')"
            ]
          },
          "metadata": {},
          "execution_count": 81
        },
        {
          "output_type": "display_data",
          "data": {
            "text/plain": [
              "<Figure size 432x288 with 1 Axes>"
            ],
            "image/png": "[encoded data removed]"
          },
          "metadata": {
            "needs_background": "light"
          }
        }
      ]
    },
    {
      "cell_type": "markdown",
      "source": [
        "**Obs:** Accidents mostly happens at temp 20 to 30 degree celcius."
      ],
      "metadata": {
        "id": "oARxyq7yfktQ"
      }
    },
    {
      "cell_type": "code",
      "source": [
        ""
      ],
      "metadata": {
        "id": "j1EEIXEJf0RT"
      },
      "execution_count": 53,
      "outputs": []
    },
    {
      "cell_type": "markdown",
      "source": [
        "### Road Side"
      ],
      "metadata": {
        "id": "cdTE5fwfv1e0"
      }
    },
    {
      "cell_type": "code",
      "source": [
        "miami_florida['Side'].value_counts()"
      ],
      "metadata": {
        "colab": {
          "base_uri": "https://localhost:8080/"
        },
        "id": "A9n8Ki-BfRNO",
        "outputId": "f4ba84cd-624e-4789-e6f5-dffd8ebe915b"
      },
      "execution_count": 83,
      "outputs": [
        {
          "output_type": "execute_result",
          "data": {
            "text/plain": [
              "R    73977\n",
              "L    32919\n",
              "Name: Side, dtype: int64"
            ]
          },
          "metadata": {},
          "execution_count": 83
        }
      ]
    },
    {
      "cell_type": "code",
      "source": [
        "plt.bar(miami_florida['Side'].value_counts().keys(), miami_florida['Side'].value_counts())\n",
        "plt.title(\"Road side and accident count\")\n",
        "plt.xlabel(\"side\")\n",
        "plt.ylabel(\"accident count\")"
      ],
      "metadata": {
        "colab": {
          "base_uri": "https://localhost:8080/",
          "height": 312
        },
        "id": "iUKET3GffRKP",
        "outputId": "d5f98093-5e10-46a7-a212-358c49d54933"
      },
      "execution_count": 84,
      "outputs": [
        {
          "output_type": "execute_result",
          "data": {
            "text/plain": [
              "Text(0, 0.5, 'accident count')"
            ]
          },
          "metadata": {},
          "execution_count": 84
        },
        {
          "output_type": "display_data",
          "data": {
            "text/plain": [
              "<Figure size 432x288 with 1 Axes>"
            ],
            "image/png": "[encoded data removed]"
          },
          "metadata": {
            "needs_background": "light"
          }
        }
      ]
    },
    {
      "cell_type": "markdown",
      "source": [
        "Most of the accidents happens on right side of the road."
      ],
      "metadata": {
        "id": "x67_HYB0hJ02"
      }
    },
    {
      "cell_type": "markdown",
      "source": [
        "### Airport_Code"
      ],
      "metadata": {
        "id": "O7RocSOGohHa"
      }
    },
    {
      "cell_type": "code",
      "source": [
        "miami_florida['Airport_Code'].value_counts()"
      ],
      "metadata": {
        "colab": {
          "base_uri": "https://localhost:8080/"
        },
        "id": "kD5Rq8IvhZ_5",
        "outputId": "85696fcf-ec60-46e9-c89d-a01a1429aa6e"
      },
      "execution_count": 68,
      "outputs": [
        {
          "output_type": "execute_result",
          "data": {
            "text/plain": [
              "KMIA    41457\n",
              "KTMB    34994\n",
              "KOPF    16494\n",
              "KHWO    12485\n",
              "KHST     1466\n",
              "Name: Airport_Code, dtype: int64"
            ]
          },
          "metadata": {},
          "execution_count": 68
        }
      ]
    },
    {
      "cell_type": "markdown",
      "source": [
        "Also the \"Miami International Airport\" is more accident prone area."
      ],
      "metadata": {
        "id": "kSGvkiNlqspn"
      }
    },
    {
      "cell_type": "markdown",
      "source": [
        "**Wind_Chill(F)**"
      ],
      "metadata": {
        "id": "CAbkq7SXrn0Q"
      }
    },
    {
      "cell_type": "code",
      "source": [
        "low_hr= miami_florida[miami_florida['hour'] ==0]\n",
        "peak_hr= miami_florida[miami_florida['hour'] ==13]\n",
        "\n",
        "sns.kdeplot(peak_hr['Wind_Chill(F)'].dropna(), label=\"peak_hr\")\n",
        "sns.kdeplot(low_hr['Wind_Chill(F)'].dropna(), label=\"low_hr\")\n",
        "plt.legend()\n",
        "plt.title(\"Wind Chill(f) at Florida\")"
      ],
      "metadata": {
        "colab": {
          "base_uri": "https://localhost:8080/",
          "height": 313
        },
        "id": "PjM7IhK5rnmX",
        "outputId": "f38669ce-e298-446c-f914-d050fd3e9b2c"
      },
      "execution_count": 85,
      "outputs": [
        {
          "output_type": "execute_result",
          "data": {
            "text/plain": [
              "Text(0.5, 1.0, 'Wind Chill(f) at Florida')"
            ]
          },
          "metadata": {},
          "execution_count": 85
        },
        {
          "output_type": "display_data",
          "data": {
            "text/plain": [
              "<Figure size 432x288 with 1 Axes>"
            ],
            "image/png": "[encoded data removed]"
          },
          "metadata": {
            "needs_background": "light"
          }
        }
      ]
    },
    {
      "cell_type": "markdown",
      "source": [
        "**Obs:** Wind Chill is more while accident."
      ],
      "metadata": {
        "id": "kw0SGbU6wkQG"
      }
    },
    {
      "cell_type": "code",
      "source": [
        ""
      ],
      "metadata": {
        "id": "WWbjvz8hwztW"
      },
      "execution_count": null,
      "outputs": []
    },
    {
      "cell_type": "code",
      "source": [
        "low_day= miami_florida[miami_florida['week'] ==2]\n",
        "peak_day= miami_florida[miami_florida['week'] ==5]\n",
        "\n",
        "sns.kdeplot(peak_day['Wind_Chill(F)'].dropna(), label=\"peak_day\")\n",
        "sns.kdeplot(low_day['Wind_Chill(F)'].dropna(), label=\"low_day\")\n",
        "plt.legend()\n",
        "plt.title(\"Wind Chill(f) at Florida\")"
      ],
      "metadata": {
        "colab": {
          "base_uri": "https://localhost:8080/",
          "height": 313
        },
        "outputId": "2c648076-efbe-40cd-ea54-c28fa0eb9a5c",
        "id": "2P4JQGVSw0E7"
      },
      "execution_count": 86,
      "outputs": [
        {
          "output_type": "execute_result",
          "data": {
            "text/plain": [
              "Text(0.5, 1.0, 'Wind Chill(f) at Florida')"
            ]
          },
          "metadata": {},
          "execution_count": 86
        },
        {
          "output_type": "display_data",
          "data": {
            "text/plain": [
              "<Figure size 432x288 with 1 Axes>"
            ],
            "image/png": "[encoded data removed]"
          },
          "metadata": {
            "needs_background": "light"
          }
        }
      ]
    },
    {
      "cell_type": "markdown",
      "source": [
        "**Obs**: No effect of windchill"
      ],
      "metadata": {
        "id": "SFW5SkICxERA"
      }
    },
    {
      "cell_type": "markdown",
      "source": [
        "**Pressuer(in)**"
      ],
      "metadata": {
        "id": "72GGeDJmukvj"
      }
    },
    {
      "cell_type": "code",
      "source": [
        "sns.kdeplot(miami_florida['Pressure(in)'])\n",
        "plt.title(\"Pressure in Miami Florida\")"
      ],
      "metadata": {
        "colab": {
          "base_uri": "https://localhost:8080/",
          "height": 312
        },
        "id": "A2oniVaSusKG",
        "outputId": "3b49da6d-cd62-49ac-8fef-245288d9dd1c"
      },
      "execution_count": 72,
      "outputs": [
        {
          "output_type": "execute_result",
          "data": {
            "text/plain": [
              "Text(0.5, 1.0, 'Pressure in Miami Florida')"
            ]
          },
          "metadata": {},
          "execution_count": 72
        },
        {
          "output_type": "display_data",
          "data": {
            "text/plain": [
              "<Figure size 432x288 with 1 Axes>"
            ],
            "image/png": "[encoded data removed]"
          },
          "metadata": {
            "needs_background": "light"
          }
        }
      ]
    },
    {
      "cell_type": "code",
      "source": [
        "peak_hr= miami_florida[miami_florida['hour'] ==13]\n",
        "sns.kdeplot(miami_florida['Pressure(in)'], color='red', label='miami')\n",
        "sns.kdeplot(peak_hr['Pressure(in)'], color='pink', label='peak_hr_13')\n",
        "plt.legend()"
      ],
      "metadata": {
        "colab": {
          "base_uri": "https://localhost:8080/",
          "height": 296
        },
        "outputId": "f54a720c-b7f8-450a-cb57-14cf9e36ca42",
        "id": "7A7jYNk4ukvj"
      },
      "execution_count": 73,
      "outputs": [
        {
          "output_type": "execute_result",
          "data": {
            "text/plain": [
              "<matplotlib.legend.Legend at 0x7fb9c2e714d0>"
            ]
          },
          "metadata": {},
          "execution_count": 73
        },
        {
          "output_type": "display_data",
          "data": {
            "text/plain": [
              "<Figure size 432x288 with 1 Axes>"
            ],
            "image/png": "[encoded data removed]"
          },
          "metadata": {
            "needs_background": "light"
          }
        }
      ]
    },
    {
      "cell_type": "code",
      "source": [
        "peak_hr= miami_florida[miami_florida['hour'] ==1]\n",
        "sns.kdeplot(miami_florida['Pressure(in)'], color='red', label='miami')\n",
        "sns.kdeplot(peak_hr['Pressure(in)'], color='pink', label='peak_hr_1')\n",
        "plt.legend()"
      ],
      "metadata": {
        "colab": {
          "base_uri": "https://localhost:8080/",
          "height": 296
        },
        "outputId": "3e0daadf-17f8-424b-ba83-ddd216463517",
        "id": "WRQNfrcPvJnM"
      },
      "execution_count": 74,
      "outputs": [
        {
          "output_type": "execute_result",
          "data": {
            "text/plain": [
              "<matplotlib.legend.Legend at 0x7fb9c3329a10>"
            ]
          },
          "metadata": {},
          "execution_count": 74
        },
        {
          "output_type": "display_data",
          "data": {
            "text/plain": [
              "<Figure size 432x288 with 1 Axes>"
            ],
            "image/png": "[encoded data removed]"
          },
          "metadata": {
            "needs_background": "light"
          }
        }
      ]
    },
    {
      "cell_type": "code",
      "source": [
        "miami_florida.columns"
      ],
      "metadata": {
        "id": "mxZwPT6evC7i",
        "colab": {
          "base_uri": "https://localhost:8080/"
        },
        "outputId": "1134f075-889a-473e-c59e-18e54dbbc97e"
      },
      "execution_count": 78,
      "outputs": [
        {
          "output_type": "execute_result",
          "data": {
            "text/plain": [
              "Index(['ID', 'Severity', 'Start_Time', 'End_Time', 'Start_Lat', 'Start_Lng',\n",
              "       'End_Lat', 'End_Lng', 'Distance(mi)', 'Description', 'Number', 'Street',\n",
              "       'Side', 'City', 'County', 'State', 'Zipcode', 'Country', 'Timezone',\n",
              "       'Airport_Code', 'Weather_Timestamp', 'Temperature(F)', 'Wind_Chill(F)',\n",
              "       'Humidity(%)', 'Pressure(in)', 'Visibility(mi)', 'Wind_Direction',\n",
              "       'Wind_Speed(mph)', 'Precipitation(in)', 'Weather_Condition', 'Amenity',\n",
              "       'Bump', 'Crossing', 'Give_Way', 'Junction', 'No_Exit', 'Railway',\n",
              "       'Roundabout', 'Station', 'Stop', 'Traffic_Calming', 'Traffic_Signal',\n",
              "       'Turning_Loop', 'Sunrise_Sunset', 'Civil_Twilight', 'Nautical_Twilight',\n",
              "       'Astronomical_Twilight', 'hour', 'week'],\n",
              "      dtype='object')"
            ]
          },
          "metadata": {},
          "execution_count": 78
        }
      ]
    },
    {
      "cell_type": "markdown",
      "source": [
        "### Visualizing boolean feature\n"
      ],
      "metadata": {
        "id": "65SuVsOSt32h"
      }
    },
    {
      "cell_type": "code",
      "source": [
        "bool_var=['Amenity',\n",
        "       'Bump', 'Crossing', 'Give_Way', 'Junction', 'No_Exit', 'Railway',\n",
        "       'Roundabout', 'Station', 'Stop', 'Traffic_Calming', 'Traffic_Signal',\n",
        "       'Turning_Loop']"
      ],
      "metadata": {
        "id": "9RivXw7ixcD-"
      },
      "execution_count": 107,
      "outputs": []
    },
    {
      "cell_type": "code",
      "source": [
        "for i in bool_var:\n",
        "  plt.bar(['False', 'True'],miami_florida[i].value_counts())\n",
        "  plt.title(i)\n",
        "  plt.show()"
      ],
      "metadata": {
        "id": "0ZeMpnFjrnRN",
        "colab": {
          "base_uri": "https://localhost:8080/",
          "height": 1000
        },
        "outputId": "102c9eaa-7593-4347-cd48-475d264fa6b8"
      },
      "execution_count": 108,
      "outputs": [
        {
          "output_type": "display_data",
          "data": {
            "text/plain": [
              "<Figure size 432x288 with 1 Axes>"
            ],
            "image/png": "[encoded data removed]"
          },
          "metadata": {
            "needs_background": "light"
          }
        },
        {
          "output_type": "display_data",
          "data": {
            "text/plain": [
              "<Figure size 432x288 with 1 Axes>"
            ],
            "image/png": "[encoded data removed]"
          },
          "metadata": {
            "needs_background": "light"
          }
        },
        {
          "output_type": "display_data",
          "data": {
            "text/plain": [
              "<Figure size 432x288 with 1 Axes>"
            ],
            "image/png": "[encoded data removed]"
          },
          "metadata": {
            "needs_background": "light"
          }
        },
        {
          "output_type": "display_data",
          "data": {
            "text/plain": [
              "<Figure size 432x288 with 1 Axes>"
            ],
            "image/png": "[encoded data removed]"
          },
          "metadata": {
            "needs_background": "light"
          }
        },
        {
          "output_type": "display_data",
          "data": {
            "text/plain": [
              "<Figure size 432x288 with 1 Axes>"
            ],
            "image/png": "[encoded data removed]"
          },
          "metadata": {
            "needs_background": "light"
          }
        },
        {
          "output_type": "display_data",
          "data": {
            "text/plain": [
              "<Figure size 432x288 with 1 Axes>"
            ],
            "image/png": "[encoded data removed]"
          },
          "metadata": {
            "needs_background": "light"
          }
        },
        {
          "output_type": "display_data",
          "data": {
            "text/plain": [
              "<Figure size 432x288 with 1 Axes>"
            ],
            "image/png": "[encoded data removed]"
          },
          "metadata": {
            "needs_background": "light"
          }
        },
        {
          "output_type": "display_data",
          "data": {
            "text/plain": [
              "<Figure size 432x288 with 1 Axes>"
            ],
            "image/png": "[encoded data removed]"
          },
          "metadata": {
            "needs_background": "light"
          }
        },
        {
          "output_type": "display_data",
          "data": {
            "text/plain": [
              "<Figure size 432x288 with 1 Axes>"
            ],
            "image/png": "[encoded data removed]"
          },
          "metadata": {
            "needs_background": "light"
          }
        },
        {
          "output_type": "display_data",
          "data": {
            "text/plain": [
              "<Figure size 432x288 with 1 Axes>"
            ],
            "image/png": "[encoded data removed]"
          },
          "metadata": {
            "needs_background": "light"
          }
        },
        {
          "output_type": "display_data",
          "data": {
            "text/plain": [
              "<Figure size 432x288 with 1 Axes>"
            ],
            "image/png": "[encoded data removed]"
          },
          "metadata": {
            "needs_background": "light"
          }
        },
        {
          "output_type": "display_data",
          "data": {
            "text/plain": [
              "<Figure size 432x288 with 1 Axes>"
            ],
            "image/png": "[encoded data removed]"
          },
          "metadata": {
            "needs_background": "light"
          }
        },
        {
          "output_type": "display_data",
          "data": {
            "text/plain": [
              "<Figure size 432x288 with 1 Axes>"
            ],
            "image/png": "[encoded data removed]"
          },
          "metadata": {
            "needs_background": "light"
          }
        }
      ]
    },
    {
      "cell_type": "markdown",
      "source": [
        "**Obs:** By looking at above graphs it seems accident might happens often because of absence of these features in the area. Like \n",
        "* \"Bump\" is necessary to slow the car speed. \n",
        "* Most places doesn't have traffic signal.\n"
      ],
      "metadata": {
        "id": "I_I5F0-v0RTc"
      }
    },
    {
      "cell_type": "markdown",
      "source": [
        "### visualizing twilight variable"
      ],
      "metadata": {
        "id": "b_z8LIvmzjra"
      }
    },
    {
      "cell_type": "code",
      "source": [
        "list1 =[ 'Sunrise_Sunset', 'Civil_Twilight', 'Nautical_Twilight',\n",
        "       'Astronomical_Twilight']"
      ],
      "metadata": {
        "id": "j01PxHE9rnOY"
      },
      "execution_count": 109,
      "outputs": []
    },
    {
      "cell_type": "code",
      "source": [
        "for i in list1:\n",
        "  plt.bar(miami_florida[i].value_counts().keys(), miami_florida[i].value_counts())\n",
        "  plt.title(i)\n",
        "  plt.show()"
      ],
      "metadata": {
        "id": "ZLDdxKdRrnLg",
        "colab": {
          "base_uri": "https://localhost:8080/",
          "height": 1000
        },
        "outputId": "f8c0c03f-6a62-49b9-9d2d-c84797c226a5"
      },
      "execution_count": 112,
      "outputs": [
        {
          "output_type": "display_data",
          "data": {
            "text/plain": [
              "<Figure size 432x288 with 1 Axes>"
            ],
            "image/png": "[encoded data removed]"
          },
          "metadata": {
            "needs_background": "light"
          }
        },
        {
          "output_type": "display_data",
          "data": {
            "text/plain": [
              "<Figure size 432x288 with 1 Axes>"
            ],
            "image/png": "[encoded data removed]"
          },
          "metadata": {
            "needs_background": "light"
          }
        },
        {
          "output_type": "display_data",
          "data": {
            "text/plain": [
              "<Figure size 432x288 with 1 Axes>"
            ],
            "image/png": "[encoded data removed]"
          },
          "metadata": {
            "needs_background": "light"
          }
        },
        {
          "output_type": "display_data",
          "data": {
            "text/plain": [
              "<Figure size 432x288 with 1 Axes>"
            ],
            "image/png": "[encoded data removed]"
          },
          "metadata": {
            "needs_background": "light"
          }
        }
      ]
    },
    {
      "cell_type": "markdown",
      "source": [
        "**Obs:** Most of the accidents happens at day time and hence we can take good measures to lower the accident percentage in the area."
      ],
      "metadata": {
        "id": "XxM5ag-A1Xke"
      }
    },
    {
      "cell_type": "markdown",
      "source": [
        "### Conclusion\n",
        "* Street number has most no of missing values.\n",
        "* Most of the accidents took place in right side of street.\n",
        "* Miami is a city in florida, which is a 3rd most populus state in USA. That could be a reasonable reason why miami has highest no of accidents.\n",
        "* population is not the reason as los angles has highest population but it is second place in cities by accident and it's accident's rate is 40,000 less than miami.\n",
        "* Miami-Dade has the highest accident count in Florida state.\n",
        "* CANADA ranks 1 in highest accident state in USA. And it is also the most populous state in USA.\n",
        "* the \"Miami International Airport\" is more accident prone area.\n",
        "* 2021 was the deadliest year in whole USA and in Miami also.\n",
        "* Most of the accidents happens at day time and hence we can take good measures to lower the accident percentage in the area.\n",
        "* "
      ],
      "metadata": {
        "id": "cAOABru110WT"
      }
    },
    {
      "cell_type": "code",
      "source": [
        ""
      ],
      "metadata": {
        "id": "fQPF_7lH13Zr"
      },
      "execution_count": null,
      "outputs": []
    }
  ],
  "metadata": {
    "colab": {
      "name": "US_accidents.ipynb",
      "provenance": [],
      "collapsed_sections": []
    },
    "kernelspec": {
      "display_name": "Python 3",
      "name": "python3"
    },
    "language_info": {
      "name": "python"
    }
  },
  "nbformat": 4,
  "nbformat_minor": 0
}